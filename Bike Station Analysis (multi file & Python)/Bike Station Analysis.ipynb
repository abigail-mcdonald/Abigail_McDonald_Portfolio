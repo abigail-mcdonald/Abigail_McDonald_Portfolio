{
 "cells": [
  {
   "cell_type": "markdown",
   "metadata": {},
   "source": [
    "# Bike Station Analysis Project"
   ]
  },
  {
   "cell_type": "markdown",
   "metadata": {},
   "source": [
    "Hubway, the government bike program, for the Boston metropolitan area is being analyzed in preparation for a city budget meeting.  Bike station and trip data from July 28, 2011 through October 1, 2012 comprise the set of data. "
   ]
  },
  {
   "cell_type": "code",
   "execution_count": 2,
   "metadata": {},
   "outputs": [],
   "source": [
    "# import libraries\n",
    "import matplotlib.pyplot as plt\n",
    "import numpy as np\n",
    "%matplotlib inline\n",
    "import pandas as pd\n",
    "import datetime as dt\n",
    "\n",
    "# import data sets and parse time/date columns\n",
    "stations = pd.read_csv(\"ExData_stations.csv\")\n",
    "trips = pd.read_csv(\"ExData_trips.csv\", parse_dates=[3,5])\n",
    "capacities = pd.read_csv(\"stationcapacity.csv\", parse_dates=[2])"
   ]
  },
  {
   "cell_type": "markdown",
   "metadata": {},
   "source": [
    "## Most and Least Used Stations"
   ]
  },
  {
   "cell_type": "code",
   "execution_count": 3,
   "metadata": {},
   "outputs": [
    {
     "name": "stdout",
     "output_type": "stream",
     "text": [
      "The most/least used starting station\n",
      " start_station\n",
      "92.0      2\n",
      "96.0      6\n",
      "94.0      6\n",
      "87.0      8\n",
      "95.0     10\n",
      "       ... \n",
      "16.0    535\n",
      "42.0    597\n",
      "38.0    768\n",
      "36.0    778\n",
      "22.0    978\n",
      "Name: id, Length: 94, dtype: int64\n",
      "The most/least used ending station\n",
      " end_station\n",
      "92.0      2\n",
      "93.0      3\n",
      "95.0      6\n",
      "96.0      7\n",
      "77.0      8\n",
      "       ... \n",
      "33.0    509\n",
      "42.0    612\n",
      "36.0    793\n",
      "38.0    824\n",
      "22.0    946\n",
      "Name: id, Length: 95, dtype: int64\n",
      "How much each station was used (combined values for start/end)\n",
      " 92.0       4.0\n",
      "96.0      13.0\n",
      "95.0      16.0\n",
      "87.0      19.0\n",
      "94.0      20.0\n",
      "         ...  \n",
      "42.0    1209.0\n",
      "36.0    1571.0\n",
      "38.0    1592.0\n",
      "22.0    1924.0\n",
      "93.0       NaN\n",
      "Name: id, Length: 95, dtype: float64\n"
     ]
    }
   ],
   "source": [
    "# creating aggregated values for start and end stations\n",
    "stat = trips.groupby(\"start_station\").aggregate(len)\n",
    "stat2 = trips.groupby(\"end_station\").aggregate(len)\n",
    "# creating variables to call the aggregated station data by trip id\n",
    "stat_count1 = stat[\"id\"]\n",
    "stat_count2 = stat2[\"id\"]\n",
    "stat_count3 = stat[\"id\"]+stat2[\"id\"]\n",
    "\n",
    "print (\"The most/least used starting station\\n\", stat_count1.sort_values())\n",
    "print (\"The most/least used ending station\\n\", stat_count2.sort_values())\n",
    "print (\"How much each station was used (combined values for start/end)\\n\", stat_count3.sort_values())"
   ]
  },
  {
   "cell_type": "markdown",
   "metadata": {},
   "source": [
    "The most used start station was 22 which was used 978 times.  The least used start station was 92 with 2 trips.\n",
    "The most used end station was 22 with 946 trips.  The least used end station was 92 with 2 trips.\n",
    "The most used station overall is 22 which was used 1,924 times.  The least used station overall was 92 which had a total of 4 trips.  \n",
    "Station 93 is an outlier with no trips."
   ]
  },
  {
   "cell_type": "markdown",
   "metadata": {},
   "source": [
    "## Home-based vs Commuter Stations"
   ]
  },
  {
   "cell_type": "code",
   "execution_count": 4,
   "metadata": {},
   "outputs": [
    {
     "name": "stdout",
     "output_type": "stream",
     "text": [
      "    id  status  duration                 start_date  start_station  \\\n",
      "0  119  Closed       394  2011-07-28 13:16:00-04:00           10.0   \n",
      "1  174  Closed       386  2011-07-28 15:55:00-04:00           24.0   \n",
      "2  218  Closed       589  2011-07-28 16:56:00-04:00           22.0   \n",
      "3  238  Closed      1425  2011-07-28 17:16:00-04:00            9.0   \n",
      "4  276  Closed       465  2011-07-28 17:52:00-04:00           44.0   \n",
      "\n",
      "                    end_date  end_station bike_nr subscription_type zip_code  \\\n",
      "0  2011-07-28 13:23:00-04:00         32.0  B00189        Registered    02492   \n",
      "1  2011-07-28 16:01:00-04:00         48.0  B00082        Registered    02113   \n",
      "2  2011-07-28 17:05:00-04:00         49.0  B00137        Registered    01890   \n",
      "3  2011-07-28 17:40:00-04:00          9.0  B00329            Casual      NaN   \n",
      "4  2011-07-28 18:00:00-04:00         22.0  B00136            Casual      NaN   \n",
      "\n",
      "   birth_date gender station_type  \n",
      "0      1975.0   Male     commuter  \n",
      "1      1986.0   Male     commuter  \n",
      "2      1978.0   Male     commuter  \n",
      "3         NaN    NaN   home_based  \n",
      "4         NaN    NaN     commuter  \n"
     ]
    },
    {
     "data": {
      "text/plain": [
       "station_type\n",
       "commuter      18626\n",
       "home_based     1374\n",
       "Name: id, dtype: int64"
      ]
     },
     "execution_count": 4,
     "metadata": {},
     "output_type": "execute_result"
    }
   ],
   "source": [
    "# creating a new column called station_type which indicates whether a trip starts and ends in the same place (home_based)\n",
    "# or in different locations (commuter).\n",
    "trips[\"station_type\"] = np.where((trips[\"start_station\"] == trips[\"end_station\"])\n",
    "                     , 'home_based', 'commuter')\n",
    "\n",
    "trips.sort_values(\"start_station\")\n",
    "print(trips.head())\n",
    "\n",
    "# aggregate number of stations by home_based or commuter\n",
    "stat3 = trips.groupby(\"station_type\").aggregate(len)\n",
    "stat_count4 = stat3[\"id\"]\n",
    "stat_count4"
   ]
  },
  {
   "cell_type": "markdown",
   "metadata": {},
   "source": [
    "## Sending Commuter Stations with Primarily Morning, Evening, or Balanced Net Outflow  "
   ]
  },
  {
   "cell_type": "code",
   "execution_count": 30,
   "metadata": {},
   "outputs": [
    {
     "name": "stderr",
     "output_type": "stream",
     "text": [
      "<ipython-input-30-50c1600ed19d>:6: SettingWithCopyWarning: \n",
      "A value is trying to be set on a copy of a slice from a DataFrame.\n",
      "Try using .loc[row_indexer,col_indexer] = value instead\n",
      "\n",
      "See the caveats in the documentation: https://pandas.pydata.org/pandas-docs/stable/user_guide/indexing.html#returning-a-view-versus-a-copy\n",
      "  sending[\"Hour\"] = s.dt.hour\n"
     ]
    },
    {
     "data": {
      "text/plain": [
       "Hour\n",
       "0      190\n",
       "1      162\n",
       "2      158\n",
       "3       54\n",
       "4       20\n",
       "5       92\n",
       "6      355\n",
       "7      872\n",
       "8     1506\n",
       "9      860\n",
       "10     713\n",
       "11     855\n",
       "12    1083\n",
       "13    1184\n",
       "14    1070\n",
       "15    1185\n",
       "16    1568\n",
       "17    2067\n",
       "18    1462\n",
       "19    1073\n",
       "20     705\n",
       "21     607\n",
       "22     452\n",
       "23     333\n",
       "Name: id, dtype: int64"
      ]
     },
     "execution_count": 30,
     "metadata": {},
     "output_type": "execute_result"
    }
   ],
   "source": [
    "# create a variable container for commuter stations only\n",
    "sending = trips[trips[\"station_type\"] == \"commuter\"]\n",
    "\n",
    "# separating time data into a separate hour column\n",
    "s = sending.start_date.apply(lambda x: dt.datetime(year=x.year, month=x.month, day=x.day, hour=x.hour))\n",
    "sending[\"Hour\"] = s.dt.hour\n",
    "\n",
    "# creating and calling a variable for aggregating count of trips by hour\n",
    "time_use = sending.groupby(\"Hour\").aggregate(len)\n",
    "send = time_use[\"id\"]\n",
    "send"
   ]
  },
  {
   "cell_type": "markdown",
   "metadata": {},
   "source": [
    "There is much heavier use in the second half of the day.  8am is a noteable outlier in the morning as people are heading to work."
   ]
  },
  {
   "cell_type": "markdown",
   "metadata": {},
   "source": [
    "## Bikes Taken and Not Returned (with Trip Data)  "
   ]
  },
  {
   "cell_type": "code",
   "execution_count": 6,
   "metadata": {},
   "outputs": [
    {
     "data": {
      "text/html": [
       "<div>\n",
       "<style scoped>\n",
       "    .dataframe tbody tr th:only-of-type {\n",
       "        vertical-align: middle;\n",
       "    }\n",
       "\n",
       "    .dataframe tbody tr th {\n",
       "        vertical-align: top;\n",
       "    }\n",
       "\n",
       "    .dataframe thead th {\n",
       "        text-align: right;\n",
       "    }\n",
       "</style>\n",
       "<table border=\"1\" class=\"dataframe\">\n",
       "  <thead>\n",
       "    <tr style=\"text-align: right;\">\n",
       "      <th></th>\n",
       "      <th>id</th>\n",
       "      <th>status</th>\n",
       "      <th>duration</th>\n",
       "      <th>start_date</th>\n",
       "      <th>start_station</th>\n",
       "      <th>end_date</th>\n",
       "      <th>end_station</th>\n",
       "      <th>bike_nr</th>\n",
       "      <th>subscription_type</th>\n",
       "      <th>zip_code</th>\n",
       "      <th>birth_date</th>\n",
       "      <th>gender</th>\n",
       "      <th>station_type</th>\n",
       "    </tr>\n",
       "  </thead>\n",
       "  <tbody>\n",
       "  </tbody>\n",
       "</table>\n",
       "</div>"
      ],
      "text/plain": [
       "Empty DataFrame\n",
       "Columns: [id, status, duration, start_date, start_station, end_date, end_station, bike_nr, subscription_type, zip_code, birth_date, gender, station_type]\n",
       "Index: []"
      ]
     },
     "execution_count": 6,
     "metadata": {},
     "output_type": "execute_result"
    }
   ],
   "source": [
    "# looking for trips with no end station (null values in the end_station column)\n",
    "missing = trips[trips[\"end_station\"] == pd.NA]\n",
    "missing"
   ]
  },
  {
   "cell_type": "code",
   "execution_count": 7,
   "metadata": {},
   "outputs": [
    {
     "data": {
      "text/html": [
       "<div>\n",
       "<style scoped>\n",
       "    .dataframe tbody tr th:only-of-type {\n",
       "        vertical-align: middle;\n",
       "    }\n",
       "\n",
       "    .dataframe tbody tr th {\n",
       "        vertical-align: top;\n",
       "    }\n",
       "\n",
       "    .dataframe thead th {\n",
       "        text-align: right;\n",
       "    }\n",
       "</style>\n",
       "<table border=\"1\" class=\"dataframe\">\n",
       "  <thead>\n",
       "    <tr style=\"text-align: right;\">\n",
       "      <th></th>\n",
       "      <th>id</th>\n",
       "      <th>status</th>\n",
       "      <th>duration</th>\n",
       "      <th>start_date</th>\n",
       "      <th>start_station</th>\n",
       "      <th>end_date</th>\n",
       "      <th>end_station</th>\n",
       "      <th>bike_nr</th>\n",
       "      <th>subscription_type</th>\n",
       "      <th>zip_code</th>\n",
       "      <th>birth_date</th>\n",
       "      <th>gender</th>\n",
       "      <th>station_type</th>\n",
       "    </tr>\n",
       "  </thead>\n",
       "  <tbody>\n",
       "  </tbody>\n",
       "</table>\n",
       "</div>"
      ],
      "text/plain": [
       "Empty DataFrame\n",
       "Columns: [id, status, duration, start_date, start_station, end_date, end_station, bike_nr, subscription_type, zip_code, birth_date, gender, station_type]\n",
       "Index: []"
      ]
     },
     "execution_count": 7,
     "metadata": {},
     "output_type": "execute_result"
    }
   ],
   "source": [
    "# looking for trips with no end_date (null values in the end_date column)\n",
    "missing2 = trips[trips[\"end_date\"] == pd.NA]\n",
    "missing2"
   ]
  },
  {
   "cell_type": "code",
   "execution_count": 8,
   "metadata": {},
   "outputs": [
    {
     "data": {
      "text/html": [
       "<div>\n",
       "<style scoped>\n",
       "    .dataframe tbody tr th:only-of-type {\n",
       "        vertical-align: middle;\n",
       "    }\n",
       "\n",
       "    .dataframe tbody tr th {\n",
       "        vertical-align: top;\n",
       "    }\n",
       "\n",
       "    .dataframe thead th {\n",
       "        text-align: right;\n",
       "    }\n",
       "</style>\n",
       "<table border=\"1\" class=\"dataframe\">\n",
       "  <thead>\n",
       "    <tr style=\"text-align: right;\">\n",
       "      <th></th>\n",
       "      <th>id</th>\n",
       "      <th>status</th>\n",
       "      <th>duration</th>\n",
       "      <th>start_date</th>\n",
       "      <th>start_station</th>\n",
       "      <th>end_date</th>\n",
       "      <th>end_station</th>\n",
       "      <th>bike_nr</th>\n",
       "      <th>subscription_type</th>\n",
       "      <th>zip_code</th>\n",
       "      <th>birth_date</th>\n",
       "      <th>gender</th>\n",
       "      <th>station_type</th>\n",
       "    </tr>\n",
       "  </thead>\n",
       "  <tbody>\n",
       "  </tbody>\n",
       "</table>\n",
       "</div>"
      ],
      "text/plain": [
       "Empty DataFrame\n",
       "Columns: [id, status, duration, start_date, start_station, end_date, end_station, bike_nr, subscription_type, zip_code, birth_date, gender, station_type]\n",
       "Index: []"
      ]
     },
     "execution_count": 8,
     "metadata": {},
     "output_type": "execute_result"
    }
   ],
   "source": [
    "# looking for trips without a closed status (potential unfinished trips with bikes still out)\n",
    "missing3 = trips[trips[\"status\"] != \"Closed\"]\n",
    "missing3"
   ]
  },
  {
   "cell_type": "markdown",
   "metadata": {},
   "source": [
    "All bikes had a closed status and an end_station and end_date, indicating that there are no missing bikes"
   ]
  },
  {
   "cell_type": "markdown",
   "metadata": {},
   "source": [
    "## Popularity of use by day of the week"
   ]
  },
  {
   "cell_type": "code",
   "execution_count": 9,
   "metadata": {},
   "outputs": [
    {
     "data": {
      "text/plain": [
       "Day\n",
       "Friday       3062\n",
       "Monday       2892\n",
       "Saturday     2769\n",
       "Sunday       2743\n",
       "Thursday     2891\n",
       "Tuesday      2780\n",
       "Wednesday    2863\n",
       "Name: id, dtype: int64"
      ]
     },
     "execution_count": 9,
     "metadata": {},
     "output_type": "execute_result"
    }
   ],
   "source": [
    "# create day of week variable to convert datetime day numbers to names\n",
    "dayOfWeek={0:'Monday', 1:'Tuesday', 2:'Wednesday', 3:'Thursday', 4:'Friday', 5:'Saturday', 6:'Sunday'}\n",
    "# separating time data into a separate day of the week column\n",
    "s = trips.start_date.apply(lambda x: dt.datetime(year=x.year, month=x.month, day=x.day))\n",
    "trips[\"Day\"] = s.dt.dayofweek.map(dayOfWeek)\n",
    "\n",
    "# aggregating trips by Day of the Week\n",
    "day_count = trips.groupby(\"Day\")[\"id\"].aggregate(len)\n",
    "day_count"
   ]
  },
  {
   "cell_type": "markdown",
   "metadata": {},
   "source": [
    "Friday is the most popular day of the week to take a bike out and Sunday is the least popular day.  Weekdays are more popular than weekends."
   ]
  },
  {
   "cell_type": "markdown",
   "metadata": {},
   "source": [
    "## Capacity considerations"
   ]
  },
  {
   "cell_type": "markdown",
   "metadata": {},
   "source": [
    "### Average station capacity"
   ]
  },
  {
   "cell_type": "code",
   "execution_count": 42,
   "metadata": {},
   "outputs": [
    {
     "data": {
      "text/html": [
       "<div>\n",
       "<style scoped>\n",
       "    .dataframe tbody tr th:only-of-type {\n",
       "        vertical-align: middle;\n",
       "    }\n",
       "\n",
       "    .dataframe tbody tr th {\n",
       "        vertical-align: top;\n",
       "    }\n",
       "\n",
       "    .dataframe thead th {\n",
       "        text-align: right;\n",
       "    }\n",
       "</style>\n",
       "<table border=\"1\" class=\"dataframe\">\n",
       "  <thead>\n",
       "    <tr style=\"text-align: right;\">\n",
       "      <th></th>\n",
       "      <th>id</th>\n",
       "      <th>capacity</th>\n",
       "    </tr>\n",
       "    <tr>\n",
       "      <th>station_id</th>\n",
       "      <th></th>\n",
       "      <th></th>\n",
       "    </tr>\n",
       "  </thead>\n",
       "  <tbody>\n",
       "    <tr>\n",
       "      <th>1</th>\n",
       "      <td>4123.261905</td>\n",
       "      <td>0.000000</td>\n",
       "    </tr>\n",
       "    <tr>\n",
       "      <th>28</th>\n",
       "      <td>5148.706667</td>\n",
       "      <td>0.000000</td>\n",
       "    </tr>\n",
       "    <tr>\n",
       "      <th>35</th>\n",
       "      <td>10121.758112</td>\n",
       "      <td>10.471976</td>\n",
       "    </tr>\n",
       "    <tr>\n",
       "      <th>32</th>\n",
       "      <td>10097.476471</td>\n",
       "      <td>10.550000</td>\n",
       "    </tr>\n",
       "    <tr>\n",
       "      <th>47</th>\n",
       "      <td>10291.888554</td>\n",
       "      <td>10.641566</td>\n",
       "    </tr>\n",
       "    <tr>\n",
       "      <th>...</th>\n",
       "      <td>...</td>\n",
       "      <td>...</td>\n",
       "    </tr>\n",
       "    <tr>\n",
       "      <th>21</th>\n",
       "      <td>10066.064516</td>\n",
       "      <td>21.445748</td>\n",
       "    </tr>\n",
       "    <tr>\n",
       "      <th>70</th>\n",
       "      <td>18789.945946</td>\n",
       "      <td>22.932432</td>\n",
       "    </tr>\n",
       "    <tr>\n",
       "      <th>100</th>\n",
       "      <td>21705.272727</td>\n",
       "      <td>24.818182</td>\n",
       "    </tr>\n",
       "    <tr>\n",
       "      <th>22</th>\n",
       "      <td>10067.064516</td>\n",
       "      <td>37.736070</td>\n",
       "    </tr>\n",
       "    <tr>\n",
       "      <th>38</th>\n",
       "      <td>10081.900293</td>\n",
       "      <td>44.307918</td>\n",
       "    </tr>\n",
       "  </tbody>\n",
       "</table>\n",
       "<p>103 rows × 2 columns</p>\n",
       "</div>"
      ],
      "text/plain": [
       "                      id   capacity\n",
       "station_id                         \n",
       "1            4123.261905   0.000000\n",
       "28           5148.706667   0.000000\n",
       "35          10121.758112  10.471976\n",
       "32          10097.476471  10.550000\n",
       "47          10291.888554  10.641566\n",
       "...                  ...        ...\n",
       "21          10066.064516  21.445748\n",
       "70          18789.945946  22.932432\n",
       "100         21705.272727  24.818182\n",
       "22          10067.064516  37.736070\n",
       "38          10081.900293  44.307918\n",
       "\n",
       "[103 rows x 2 columns]"
      ]
     },
     "execution_count": 42,
     "metadata": {},
     "output_type": "execute_result"
    }
   ],
   "source": [
    "# Find the average bike capacity of each station\n",
    "cap = capacities.groupby(\"station_id\").mean()\n",
    "cap.sort_values(\"capacity\")"
   ]
  },
  {
   "cell_type": "markdown",
   "metadata": {},
   "source": [
    "As alluded to above, station 22 runs the most overall trips, but has the second largest average capacity behind station 38.  Station 38 runs the second largest amount of trips.  There are also unused stations not accounted for in station database (new?)."
   ]
  },
  {
   "cell_type": "markdown",
   "metadata": {},
   "source": [
    "### Capacity by station and day of the week"
   ]
  },
  {
   "cell_type": "code",
   "execution_count": 63,
   "metadata": {},
   "outputs": [
    {
     "name": "stdout",
     "output_type": "stream",
     "text": [
      "                       capacity\n",
      "                           mean\n",
      "station_id day_of_week         \n",
      "1          Friday           0.0\n",
      "           Monday           0.0\n",
      "           Saturday         0.0\n",
      "           Sunday           0.0\n",
      "           Thursday         0.0\n",
      "...                         ...\n",
      "105        Friday          19.0\n",
      "           Monday          19.0\n",
      "           Saturday        19.0\n",
      "           Sunday          19.0\n",
      "           Tuesday         19.0\n",
      "\n",
      "[718 rows x 1 columns]\n"
     ]
    }
   ],
   "source": [
    "# separating time data into a separate day of the week column for capacity data\n",
    "daycap = capacities.day.apply(lambda x: dt.datetime(year=x.year, month=x.month, day=x.day))\n",
    "capacities[\"day_of_week\"] = daycap.dt.dayofweek.map(dayOfWeek)\n",
    "\n",
    "# finding a mean capacity by day of the week for each station\n",
    "grouped_multiple = capacities.groupby(['station_id', 'day_of_week']).agg({'capacity': ['mean']})\n",
    "print(grouped_multiple)"
   ]
  },
  {
   "cell_type": "markdown",
   "metadata": {},
   "source": [
    "This code will allow for a slice of any particular station to see if the day of the week affects capacity for a particular station."
   ]
  },
  {
   "cell_type": "markdown",
   "metadata": {},
   "source": [
    "## Demographic statistics for Registered Users"
   ]
  },
  {
   "cell_type": "markdown",
   "metadata": {},
   "source": [
    "### Gender Usage"
   ]
  },
  {
   "cell_type": "code",
   "execution_count": 12,
   "metadata": {},
   "outputs": [
    {
     "data": {
      "text/plain": [
       "gender\n",
       "Female    3257\n",
       "Male      9677\n",
       "Name: id, dtype: int64"
      ]
     },
     "execution_count": 12,
     "metadata": {},
     "output_type": "execute_result"
    }
   ],
   "source": [
    "# aggregating trips by gender\n",
    "gender_use = trips.groupby(\"gender\").aggregate(len)\n",
    "gender_use.id"
   ]
  },
  {
   "cell_type": "markdown",
   "metadata": {},
   "source": [
    "Males are almost 3 times as likely as females to use the bike service."
   ]
  },
  {
   "cell_type": "markdown",
   "metadata": {},
   "source": [
    "### Usage by Age"
   ]
  },
  {
   "cell_type": "code",
   "execution_count": 13,
   "metadata": {},
   "outputs": [
    {
     "data": {
      "text/plain": [
       "birth_date\n",
       "1932.0      1\n",
       "1938.0      4\n",
       "1939.0      3\n",
       "1940.0      2\n",
       "1942.0      8\n",
       "1943.0      1\n",
       "1944.0      4\n",
       "1945.0     17\n",
       "1946.0     30\n",
       "1947.0     33\n",
       "1948.0     28\n",
       "1949.0     43\n",
       "1950.0     64\n",
       "1951.0     56\n",
       "1952.0    101\n",
       "1953.0    124\n",
       "1954.0     64\n",
       "1955.0    113\n",
       "1956.0     98\n",
       "1957.0    184\n",
       "1958.0    134\n",
       "1959.0    194\n",
       "1960.0    162\n",
       "1961.0    182\n",
       "1962.0    245\n",
       "1963.0    213\n",
       "1964.0    125\n",
       "1965.0    211\n",
       "1966.0    229\n",
       "1967.0    224\n",
       "1968.0    179\n",
       "1969.0    202\n",
       "1970.0    302\n",
       "1971.0    293\n",
       "1972.0    201\n",
       "1973.0    306\n",
       "1974.0    311\n",
       "1975.0    288\n",
       "1976.0    328\n",
       "1977.0    407\n",
       "1978.0    317\n",
       "1979.0    370\n",
       "1980.0    565\n",
       "1981.0    520\n",
       "1982.0    566\n",
       "1983.0    727\n",
       "1984.0    636\n",
       "1985.0    600\n",
       "1986.0    663\n",
       "1987.0    559\n",
       "1988.0    436\n",
       "1989.0    415\n",
       "1990.0    234\n",
       "1991.0    233\n",
       "1992.0    151\n",
       "1993.0     90\n",
       "1994.0     40\n",
       "1995.0      5\n",
       "Name: id, dtype: int64"
      ]
     },
     "execution_count": 13,
     "metadata": {},
     "output_type": "execute_result"
    }
   ],
   "source": [
    "# aggregating trips by birth year\n",
    "age_use = trips.groupby(\"birth_date\").aggregate(len)\n",
    "age_use.id"
   ]
  },
  {
   "cell_type": "markdown",
   "metadata": {},
   "source": [
    "Those born in 1983 are most likely to use the service with birthdates in the 1980's being the most popular age range of usage."
   ]
  },
  {
   "cell_type": "markdown",
   "metadata": {},
   "source": [
    "### Usage by Zip Code"
   ]
  },
  {
   "cell_type": "code",
   "execution_count": 14,
   "metadata": {},
   "outputs": [
    {
     "data": {
      "text/plain": [
       "zip_code\n",
       "02118    1918\n",
       "02116    1167\n",
       "02215    1161\n",
       "02115     775\n",
       "02113     548\n",
       "         ... \n",
       "03301       1\n",
       "01606       1\n",
       "11797       1\n",
       "01590       1\n",
       "02126       1\n",
       "Name: id, Length: 301, dtype: int64"
      ]
     },
     "execution_count": 14,
     "metadata": {},
     "output_type": "execute_result"
    }
   ],
   "source": [
    "# aggregating trips by user's zip code\n",
    "location_use = trips.groupby(\"zip_code\").aggregate(len)\n",
    "location_use.id.sort_values(ascending=False)"
   ]
  }
 ],
 "metadata": {
  "kernelspec": {
   "display_name": "Python 3",
   "language": "python",
   "name": "python3"
  },
  "language_info": {
   "codemirror_mode": {
    "name": "ipython",
    "version": 3
   },
   "file_extension": ".py",
   "mimetype": "text/x-python",
   "name": "python",
   "nbconvert_exporter": "python",
   "pygments_lexer": "ipython3",
   "version": "3.8.5"
  }
 },
 "nbformat": 4,
 "nbformat_minor": 4
}
