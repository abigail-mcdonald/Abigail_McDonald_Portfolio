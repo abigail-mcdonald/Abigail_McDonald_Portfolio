{
  "cells": [
    {
      "cell_type": "markdown",
      "metadata": {
        "id": "1-HBzx_CB1L1"
      },
      "source": [
        "# **Predicting Customer Recommendations**\n",
        "### Abigail McDonald"
      ]
    },
    {
      "cell_type": "markdown",
      "metadata": {
        "id": "spLYA-LRNI8T"
      },
      "source": [
        "##Objective"
      ]
    },
    {
      "cell_type": "markdown",
      "metadata": {
        "id": "rGgECfmhCKj0"
      },
      "source": [
        "A dataset from an e-commerce retailer selling women’s apparel contains the following elements: item id, text reviews, rating, recommended(yes/no), positive feedback on review, age of customer, division/department/class of product.  Moving forward, can we predict customer recommendation of a product based on the review given?  This will involve building and testing models to predict customer recommendation of purchased products based on review text analysis."
      ]
    },
    {
      "cell_type": "markdown",
      "metadata": {
        "id": "1dy4xFtZCrfc"
      },
      "source": [
        "## Data Retrieval and Cleaning"
      ]
    },
    {
      "cell_type": "code",
      "execution_count": 1,
      "metadata": {
        "colab": {
          "base_uri": "https://localhost:8080/",
          "height": 310
        },
        "id": "o5SS0rnxC5LB",
        "outputId": "ca4aed56-553c-4373-ab7c-47d4e388ca49"
      },
      "outputs": [
        {
          "data": {
            "text/html": [
              "<div>\n",
              "<style scoped>\n",
              "    .dataframe tbody tr th:only-of-type {\n",
              "        vertical-align: middle;\n",
              "    }\n",
              "\n",
              "    .dataframe tbody tr th {\n",
              "        vertical-align: top;\n",
              "    }\n",
              "\n",
              "    .dataframe thead th {\n",
              "        text-align: right;\n",
              "    }\n",
              "</style>\n",
              "<table border=\"1\" class=\"dataframe\">\n",
              "  <thead>\n",
              "    <tr style=\"text-align: right;\">\n",
              "      <th></th>\n",
              "      <th>Clothing ID</th>\n",
              "      <th>Age</th>\n",
              "      <th>Title</th>\n",
              "      <th>Review Text</th>\n",
              "      <th>Rating</th>\n",
              "      <th>Recommended IND</th>\n",
              "      <th>Positive Feedback Count</th>\n",
              "      <th>Division Name</th>\n",
              "      <th>Department Name</th>\n",
              "      <th>Class Name</th>\n",
              "    </tr>\n",
              "  </thead>\n",
              "  <tbody>\n",
              "    <tr>\n",
              "      <th>0</th>\n",
              "      <td>767</td>\n",
              "      <td>33</td>\n",
              "      <td></td>\n",
              "      <td>Absolutely wonderful - silky and sexy and comf...</td>\n",
              "      <td>4</td>\n",
              "      <td>1</td>\n",
              "      <td>0</td>\n",
              "      <td>Initmates</td>\n",
              "      <td>Intimate</td>\n",
              "      <td>Intimates</td>\n",
              "    </tr>\n",
              "    <tr>\n",
              "      <th>1</th>\n",
              "      <td>1080</td>\n",
              "      <td>34</td>\n",
              "      <td></td>\n",
              "      <td>Love this dress!  it's sooo pretty.  i happene...</td>\n",
              "      <td>5</td>\n",
              "      <td>1</td>\n",
              "      <td>4</td>\n",
              "      <td>General</td>\n",
              "      <td>Dresses</td>\n",
              "      <td>Dresses</td>\n",
              "    </tr>\n",
              "    <tr>\n",
              "      <th>2</th>\n",
              "      <td>1077</td>\n",
              "      <td>60</td>\n",
              "      <td>Some major design flaws</td>\n",
              "      <td>I had such high hopes for this dress and reall...</td>\n",
              "      <td>3</td>\n",
              "      <td>0</td>\n",
              "      <td>0</td>\n",
              "      <td>General</td>\n",
              "      <td>Dresses</td>\n",
              "      <td>Dresses</td>\n",
              "    </tr>\n",
              "    <tr>\n",
              "      <th>3</th>\n",
              "      <td>1049</td>\n",
              "      <td>50</td>\n",
              "      <td>My favorite buy!</td>\n",
              "      <td>I love, love, love this jumpsuit. it's fun, fl...</td>\n",
              "      <td>5</td>\n",
              "      <td>1</td>\n",
              "      <td>0</td>\n",
              "      <td>General Petite</td>\n",
              "      <td>Bottoms</td>\n",
              "      <td>Pants</td>\n",
              "    </tr>\n",
              "    <tr>\n",
              "      <th>4</th>\n",
              "      <td>847</td>\n",
              "      <td>47</td>\n",
              "      <td>Flattering shirt</td>\n",
              "      <td>This shirt is very flattering to all due to th...</td>\n",
              "      <td>5</td>\n",
              "      <td>1</td>\n",
              "      <td>6</td>\n",
              "      <td>General</td>\n",
              "      <td>Tops</td>\n",
              "      <td>Blouses</td>\n",
              "    </tr>\n",
              "  </tbody>\n",
              "</table>\n",
              "</div>"
            ],
            "text/plain": [
              "   Clothing ID  Age  ... Department Name Class Name\n",
              "0          767   33  ...        Intimate  Intimates\n",
              "1         1080   34  ...         Dresses    Dresses\n",
              "2         1077   60  ...         Dresses    Dresses\n",
              "3         1049   50  ...         Bottoms      Pants\n",
              "4          847   47  ...            Tops    Blouses\n",
              "\n",
              "[5 rows x 10 columns]"
            ]
          },
          "execution_count": 1,
          "metadata": {},
          "output_type": "execute_result"
        }
      ],
      "source": [
        "import pandas as pd \n",
        "import numpy as np\n",
        "import matplotlib.pyplot as plt\n",
        "%matplotlib inline\n",
        "plt.style.use('ggplot')\n",
        "\n",
        "df = pd.read_csv('https://github.com/dipanjanS/text-analytics-with-python/raw/master/media/Womens%20Clothing%20E-Commerce%20Reviews%20-%20NLP.csv', keep_default_na=False) \n",
        "df.head()"
      ]
    },
    {
      "cell_type": "code",
      "execution_count": 2,
      "metadata": {
        "colab": {
          "base_uri": "https://localhost:8080/"
        },
        "id": "JZczxzxAF4Gc",
        "outputId": "2694b9db-b7db-4225-b21f-d31e95178ffe"
      },
      "outputs": [
        {
          "name": "stdout",
          "output_type": "stream",
          "text": [
            "<class 'pandas.core.frame.DataFrame'>\n",
            "Int64Index: 23486 entries, 0 to 23485\n",
            "Data columns (total 9 columns):\n",
            " #   Column                   Non-Null Count  Dtype \n",
            "---  ------                   --------------  ----- \n",
            " 0   Clothing ID              23486 non-null  int64 \n",
            " 1   Age                      23486 non-null  int64 \n",
            " 2   Rating                   23486 non-null  int64 \n",
            " 3   Recommended IND          23486 non-null  int64 \n",
            " 4   Positive Feedback Count  23486 non-null  int64 \n",
            " 5   Division Name            23486 non-null  object\n",
            " 6   Department Name          23486 non-null  object\n",
            " 7   Class Name               23486 non-null  object\n",
            " 8   Review                   23486 non-null  object\n",
            "dtypes: int64(5), object(4)\n",
            "memory usage: 1.8+ MB\n"
          ]
        }
      ],
      "source": [
        "# Combining Title and Review Text Columns\n",
        "df[\"Review\"] = df[\"Title\"]+\" \"+ df[\"Review Text\"]\n",
        "\n",
        "# Dropping individual columns\n",
        "df = df.drop(df.columns[[2, 3]], axis=1)\n",
        "\n",
        "# Removing blank review records\n",
        "df[\"Review\"].replace(\"\", np.nan, inplace=True)\n",
        "df.dropna(subset = [\"Review\"], inplace=True)\n",
        "df.info()"
      ]
    },
    {
      "cell_type": "markdown",
      "metadata": {
        "id": "mDlMPqwenMeR"
      },
      "source": [
        "##Exploratory Data Analysis"
      ]
    },
    {
      "cell_type": "markdown",
      "metadata": {
        "id": "usVFPjdjnuox"
      },
      "source": [
        "###Visualization of Columns of Interest"
      ]
    },
    {
      "cell_type": "code",
      "execution_count": 3,
      "metadata": {
        "colab": {
          "base_uri": "https://localhost:8080/",
          "height": 1000
        },
        "id": "v8gxOLdYnmBB",
        "outputId": "cc52f9f8-e76a-47fb-bf42-94103b796834"
      },
      "outputs": [
        {
          "name": "stdout",
          "output_type": "stream",
          "text": [
            "Rating  Recommended IND\n",
            "5       1                  13106\n",
            "        0                     25\n",
            "4       1                   4909\n",
            "        0                    168\n",
            "3       0                   1682\n",
            "        1                   1189\n",
            "2       0                   1471\n",
            "        1                     94\n",
            "1       0                    826\n",
            "        1                     16\n",
            "dtype: int64\n",
            "Division Name   Department Name  Class Name    \n",
            "                                                     14\n",
            "General         Bottoms          Casual bottoms       2\n",
            "                                 Jeans              787\n",
            "                                 Pants              835\n",
            "                                 Shorts             317\n",
            "                                 Skirts             601\n",
            "                Dresses          Dresses           3730\n",
            "                Jackets          Jackets            397\n",
            "                                 Outerwear          248\n",
            "                Tops             Blouses           1993\n",
            "                                 Fine gauge         685\n",
            "                                 Knits             3259\n",
            "                                 Sweaters           900\n",
            "                Trend            Trend               96\n",
            "General Petite  Bottoms          Jeans              360\n",
            "                                 Pants              553\n",
            "                                 Skirts             344\n",
            "                Dresses          Dresses           2589\n",
            "                Intimate         Lounge             233\n",
            "                Jackets          Jackets            307\n",
            "                                 Outerwear           80\n",
            "                Tops             Blouses           1104\n",
            "                                 Fine gauge         415\n",
            "                                 Knits             1584\n",
            "                                 Sweaters           528\n",
            "                Trend            Trend               23\n",
            "Initmates       Intimate         Chemises             1\n",
            "                                 Intimates          154\n",
            "                                 Layering           146\n",
            "                                 Legwear            165\n",
            "                                 Lounge             458\n",
            "                                 Sleep              228\n",
            "                                 Swim               350\n",
            "dtype: int64\n"
          ]
        },
        {
          "data": {
            "text/plain": [
              "<matplotlib.axes._subplots.AxesSubplot at 0x7f601586cd50>"
            ]
          },
          "execution_count": 3,
          "metadata": {},
          "output_type": "execute_result"
        },
        {
          "data": {
            "image/png": "[encoded data removed]",
            "text/plain": [
              "<Figure size 432x288 with 1 Axes>"
            ]
          },
          "metadata": {
            "needs_background": "light"
          },
          "output_type": "display_data"
        },
        {
          "data": {
            "image/png": "[encoded data removed]",
            "text/plain": [
              "<Figure size 432x288 with 1 Axes>"
            ]
          },
          "metadata": {
            "needs_background": "light"
          },
          "output_type": "display_data"
        },
        {
          "data": {
            "image/png": "[encoded data removed]",
            "text/plain": [
              "<Figure size 432x288 with 1 Axes>"
            ]
          },
          "metadata": {
            "needs_background": "light"
          },
          "output_type": "display_data"
        }
      ],
      "source": [
        "#Recommended Products\n",
        "df.hist(column=\"Recommended IND\")\n",
        "\n",
        "#Ratings\n",
        "df.hist(column=\"Rating\")\n",
        "\n",
        "#Ratings vs Recommendations\n",
        "rating = df[['Rating','Recommended IND']].value_counts()[[5,4,3,2,1]]\n",
        "print (rating)\n",
        "\n",
        "#Product Class/Division/Department Name\n",
        "types = df[['Division Name','Department Name','Class Name']].value_counts(sort=False)\n",
        "print (types)\n",
        "\n",
        "#Age vs Feedback on Reviews\n",
        "df.plot.scatter(x = \"Age\", y = \"Positive Feedback Count\")\n"
      ]
    },
    {
      "cell_type": "code",
      "execution_count": 4,
      "metadata": {
        "colab": {
          "base_uri": "https://localhost:8080/",
          "height": 770
        },
        "id": "zRdrBDoHqmcF",
        "outputId": "10366b10-203b-4e30-c41d-e2c329ec649c"
      },
      "outputs": [
        {
          "name": "stdout",
          "output_type": "stream",
          "text": [
            "Top Product IDs\n",
            "Product ID  count\n",
            " 1078    1024\n",
            "862      806\n",
            "1094     756\n",
            "1081     582\n",
            "872      545\n",
            "829      527\n",
            "1110     480\n",
            "868      430\n",
            "895      404\n",
            "Name: Clothing ID, dtype: int64\n",
            "Top Recommended Products\n",
            " Clothing ID  Recommended IND\n",
            "1078         1                  841\n",
            "862          1                  661\n",
            "1094         1                  621\n",
            "1081         1                  494\n",
            "872          1                  478\n",
            "829          1                  436\n",
            "1110         1                  403\n",
            "895          1                  341\n",
            "868          1                  325\n",
            "dtype: int64\n"
          ]
        },
        {
          "data": {
            "image/png": "[encoded data removed]",
            "text/plain": [
              "<Figure size 720x360 with 1 Axes>"
            ]
          },
          "metadata": {
            "needs_background": "light"
          },
          "output_type": "display_data"
        }
      ],
      "source": [
        "#Top Product IDs (list)\n",
        "top = df['Clothing ID'].value_counts(ascending=False)\n",
        "top_rat = top.nlargest(9)\n",
        "print (\"Top Product IDs\\nProduct ID  count\\n\",top_rat)\n",
        "\n",
        "#Customers who recommended/did not recommend top product IDs (bars)\n",
        "rec = df[['Clothing ID','Recommended IND']].value_counts(ascending=False)\n",
        "top_rec = rec.nlargest(9)\n",
        "print (\"Top Recommended Products\\n\",top_rec)\n",
        "\n",
        "# Numbers of pairs of bars you want\n",
        "N = 9\n",
        "\n",
        "# Data on X-axis\n",
        "\n",
        "# Specify the values of blue bars (height)\n",
        "blue_bar = top_rat\n",
        "# Specify the values of orange bars (height)\n",
        "orange_bar = top_rec\n",
        "\n",
        "# Position of bars on x-axis\n",
        "ind = np.arange(N)\n",
        "\n",
        "# Figure size\n",
        "plt.figure(figsize=(10,5))\n",
        "\n",
        "# Width of a bar \n",
        "width = 0.3       \n",
        "\n",
        "# Plotting\n",
        "plt.bar(ind, blue_bar , width, label='Total Reviews')\n",
        "plt.bar(ind + width, orange_bar, width, label='Recommended')\n",
        "\n",
        "plt.xlabel('By clothing ID')\n",
        "plt.ylabel('Number of Reviews')\n",
        "plt.title('Recommendations for Top Reviewed Items')\n",
        "\n",
        "# xticks()\n",
        "# First argument - A list of positions at which ticks should be placed\n",
        "# Second argument -  A list of labels to place at the given locations\n",
        "#plt.xticks(ind + width / 2, \"\")\n",
        "\n",
        "# Finding the best position for legends and putting it\n",
        "plt.legend(loc='best')\n",
        "plt.show()"
      ]
    },
    {
      "cell_type": "markdown",
      "metadata": {
        "id": "HIpJEtY7qe8A"
      },
      "source": [
        "###Textual Data Analysis"
      ]
    },
    {
      "cell_type": "code",
      "execution_count": 5,
      "metadata": {
        "colab": {
          "base_uri": "https://localhost:8080/"
        },
        "id": "SOVKbRtTsapq",
        "outputId": "417889fb-3133-4f8f-f475-3bf12db168ac"
      },
      "outputs": [
        {
          "name": "stdout",
          "output_type": "stream",
          "text": [
            "Collecting contractions\n",
            "  Downloading contractions-0.0.55-py2.py3-none-any.whl (7.9 kB)\n",
            "Collecting textsearch>=0.0.21\n",
            "  Downloading textsearch-0.0.21-py2.py3-none-any.whl (7.5 kB)\n",
            "Collecting pyahocorasick\n",
            "  Downloading pyahocorasick-1.4.2.tar.gz (321 kB)\n",
            "\u001b[K     |████████████████████████████████| 321 kB 8.1 MB/s \n",
            "\u001b[?25hCollecting anyascii\n",
            "  Downloading anyascii-0.3.0-py3-none-any.whl (284 kB)\n",
            "\u001b[K     |████████████████████████████████| 284 kB 42.7 MB/s \n",
            "\u001b[?25hBuilding wheels for collected packages: pyahocorasick\n",
            "  Building wheel for pyahocorasick (setup.py) ... \u001b[?25l\u001b[?25hdone\n",
            "  Created wheel for pyahocorasick: filename=pyahocorasick-1.4.2-cp37-cp37m-linux_x86_64.whl size=85456 sha256=cea49f63f983eaa5d2013218b93d2bd6a838aa1768e305d29552e130f060c670\n",
            "  Stored in directory: /root/.cache/pip/wheels/25/19/a6/8f363d9939162782bb8439d886469756271abc01f76fbd790f\n",
            "Successfully built pyahocorasick\n",
            "Installing collected packages: pyahocorasick, anyascii, textsearch, contractions\n",
            "Successfully installed anyascii-0.3.0 contractions-0.0.55 pyahocorasick-1.4.2 textsearch-0.0.21\n",
            "Requirement already satisfied: textsearch in /usr/local/lib/python3.7/dist-packages (0.0.21)\n",
            "Requirement already satisfied: anyascii in /usr/local/lib/python3.7/dist-packages (from textsearch) (0.3.0)\n",
            "Requirement already satisfied: pyahocorasick in /usr/local/lib/python3.7/dist-packages (from textsearch) (1.4.2)\n",
            "Requirement already satisfied: tqdm in /usr/local/lib/python3.7/dist-packages (4.62.3)\n",
            "[nltk_data] Downloading package stopwords to /root/nltk_data...\n",
            "[nltk_data]   Unzipping corpora/stopwords.zip.\n",
            "[nltk_data] Downloading package averaged_perceptron_tagger to\n",
            "[nltk_data]     /root/nltk_data...\n",
            "[nltk_data]   Unzipping taggers/averaged_perceptron_tagger.zip.\n",
            "[nltk_data] Downloading package gutenberg to /root/nltk_data...\n",
            "[nltk_data]   Unzipping corpora/gutenberg.zip.\n",
            "[nltk_data] Downloading package punkt to /root/nltk_data...\n",
            "[nltk_data]   Unzipping tokenizers/punkt.zip.\n"
          ]
        }
      ],
      "source": [
        "# additional libraries and dependencies\n",
        "!pip install contractions\n",
        "!pip install textsearch\n",
        "!pip install tqdm\n",
        "import nltk\n",
        "import contractions\n",
        "from bs4 import BeautifulSoup\n",
        "import re\n",
        "from tqdm import tqdm\n",
        "import unicodedata\n",
        "nltk.download('stopwords')\n",
        "nltk.download('averaged_perceptron_tagger')\n",
        "nltk.download('gutenberg')\n",
        "nltk.download('punkt')\n",
        "from operator import itemgetter\n",
        "import itertools\n",
        "\n",
        "#preprocess text functions \n",
        "\n",
        "def strip_html_tags(text):\n",
        "  soup = BeautifulSoup(text, \"html.parser\")\n",
        "  [s.extract() for s in soup(['iframe', 'script'])]\n",
        "  stripped_text = soup.get_text()\n",
        "  stripped_text = re.sub(r'[\\r|\\n|\\r\\n]+', '\\n', stripped_text)\n",
        "  return stripped_text\n",
        "\n",
        "def remove_accented_chars(text):\n",
        "  text = unicodedata.normalize('NFKD', text).encode('ascii', 'ignore').decode('utf-8', 'ignore')\n",
        "  return text\n",
        "\n",
        "def pre_process_corpus(docs):\n",
        "  norm_docs = []\n",
        "  for doc in tqdm(docs):\n",
        "    # strip HTML tags\n",
        "    doc = strip_html_tags(doc)\n",
        "    # remove extra newlines and convert them to spaces\n",
        "    doc = doc.translate(doc.maketrans(\"\\n\\t\\r\", \"   \"))\n",
        "    # lower case\n",
        "    doc = doc.lower()\n",
        "    # remove accents\n",
        "    doc = remove_accented_chars(doc)\n",
        "    # fix contractions\n",
        "    doc = contractions.fix(doc)\n",
        "    # remove special characters\n",
        "    doc = re.sub(r'[^a-zA-Z0-9\\s]', '', doc, flags=re.I|re.A)\n",
        "    # remove extra whitespaces\n",
        "    doc = re.sub(' +', ' ', doc)\n",
        "    # remove leading and training whitespaces\n",
        "    doc = doc.strip()  \n",
        "    norm_docs.append(doc)\n",
        "  \n",
        "  return norm_docs"
      ]
    },
    {
      "cell_type": "code",
      "execution_count": 6,
      "metadata": {
        "colab": {
          "base_uri": "https://localhost:8080/"
        },
        "id": "wcA_-SpxqdLh",
        "outputId": "3b3fd228-c2d0-45f5-b828-1c8dfacd47c2"
      },
      "outputs": [
        {
          "name": "stderr",
          "output_type": "stream",
          "text": [
            "100%|██████████| 23486/23486 [00:04<00:00, 5361.17it/s]\n"
          ]
        }
      ],
      "source": [
        "reviews = df['Review'].values\n",
        "preprocess_review = pre_process_corpus(reviews)"
      ]
    },
    {
      "cell_type": "code",
      "execution_count": 7,
      "metadata": {
        "colab": {
          "base_uri": "https://localhost:8080/"
        },
        "id": "GO0EVonZzI-C",
        "outputId": "50c475c0-d608-4dce-9394-2f8d1bfd8a59"
      },
      "outputs": [
        {
          "name": "stdout",
          "output_type": "stream",
          "text": [
            "The total number of reviews is: 23486\n",
            "The average word length for each review is: 305.9248488461211\n"
          ]
        }
      ],
      "source": [
        "#lengths of reviews\n",
        "print (\"The total number of reviews is:\", len(preprocess_review))\n",
        "\n",
        "#words per review\n",
        "avg = sum(len(word) for word in preprocess_review) / len(preprocess_review) \n",
        "print (\"The average word length for each review is:\", avg)"
      ]
    },
    {
      "cell_type": "code",
      "execution_count": 8,
      "metadata": {
        "colab": {
          "base_uri": "https://localhost:8080/"
        },
        "id": "vjwmoX-7IWm-",
        "outputId": "4af725af-dd62-42ed-f9f6-ee7f4491a0ef"
      },
      "outputs": [
        {
          "name": "stdout",
          "output_type": "stream",
          "text": [
            "The most common review words are:\n",
            " [('dress', 12104), ('love', 10775), ('size', 8894), ('top', 8493), ('great', 7864), ('fit', 7845), ('like', 7223), ('wear', 6530), ('would', 6148), ('fabric', 5034)]\n",
            "The most common bigrams are:\n",
            " [('true size', 1322), ('love dress', 902), ('love love', 714), ('usually wear', 690), ('love top', 640), ('looks great', 634), ('fit perfectly', 598), ('well made', 553), ('size small', 522), ('super cute', 517)]\n",
            "The most common trigrams are:\n",
            " [('fits true size', 272), ('love love love', 246), ('fit true size', 215), ('received many compliments', 166), ('runs true size', 142), ('usually wear size', 133), ('ordered usual size', 105), ('dress love dress', 104), ('really wanted love', 102), ('wanted love dress', 95)]\n"
          ]
        }
      ],
      "source": [
        "#most common words and n-grams\n",
        "\n",
        "stop_words = nltk.corpus.stopwords.words('english')\n",
        "\n",
        "def normalize_document(doc):\n",
        "    # lower case and remove special characters\\whitespaces\n",
        "    doc = re.sub(r'[^a-zA-Z\\s]', '', doc, flags=re.I|re.A)\n",
        "    doc = doc.lower()\n",
        "    doc = doc.strip()\n",
        "    # tokenize document\n",
        "    tokens = nltk.word_tokenize(doc)\n",
        "    # filter stopwords out of document\n",
        "    filtered_tokens = [token for token in tokens if token not in stop_words]\n",
        "    # re-create document from filtered tokens\n",
        "    doc = ' '.join(filtered_tokens)\n",
        "    return doc\n",
        "\n",
        "norm_data = list(filter(None, [normalize_document(line)\n",
        "                                      for line in preprocess_review]))\n",
        "\n",
        "def compute_ngrams(sequence, n):\n",
        "    return list(\n",
        "            zip(*(sequence[index:] \n",
        "                     for index in range(n)))\n",
        "    )\n",
        "def flatten_corpus(corpus):\n",
        "    return ' '.join([document.strip() \n",
        "                     for document in corpus])\n",
        "    \n",
        "def get_top_ngrams(corpus, ngram_val=1, limit=5):\n",
        "\n",
        "    corpus = flatten_corpus(corpus)\n",
        "\n",
        "    # tokenize words\n",
        "    tokens = nltk.word_tokenize(corpus)\n",
        "\n",
        "    ngrams = compute_ngrams(tokens, ngram_val)\n",
        "    ngrams_freq_dist = nltk.FreqDist(ngrams)\n",
        "    sorted_ngrams_fd = sorted(ngrams_freq_dist.items(), \n",
        "                              key=itemgetter(1), reverse=True)\n",
        "    sorted_ngrams = sorted_ngrams_fd[0:limit]\n",
        "\n",
        "    # join all ngrams\n",
        "    sorted_ngrams = [(' '.join(text), freq) \n",
        "                     for text, freq in sorted_ngrams]\n",
        "\n",
        "    return sorted_ngrams\n",
        "\n",
        "print (\"The most common review words are:\\n\", get_top_ngrams(corpus=norm_data, ngram_val=1,\n",
        "               limit=10))\n",
        "\n",
        "print (\"The most common bigrams are:\\n\", get_top_ngrams(corpus=norm_data, ngram_val=2,\n",
        "               limit=10))\n",
        "\n",
        "print (\"The most common trigrams are:\\n\", get_top_ngrams(corpus=norm_data, ngram_val=3,\n",
        "               limit=10))"
      ]
    },
    {
      "cell_type": "code",
      "execution_count": 9,
      "metadata": {
        "colab": {
          "base_uri": "https://localhost:8080/"
        },
        "id": "2ig6T6M_AczE",
        "outputId": "5df977ac-9fbe-4a59-92c1-68897e82da1e"
      },
      "outputs": [
        {
          "name": "stdout",
          "output_type": "stream",
          "text": [
            "The array before removal of Rating = 3: (23486, 9)\n",
            "The array after removal of Rating = 3: (20615, 9)\n"
          ]
        }
      ],
      "source": [
        "#target leakage: removing reviews with a rating of 3 as the reviews are evenly balanced between recommend (1) and do not recommend (0)\n",
        "print (\"The array before removal of Rating = 3:\", df.shape)\n",
        "df = df.loc[(df[\"Rating\"] != 3)]\n",
        "print (\"The array after removal of Rating = 3:\", df.shape)"
      ]
    },
    {
      "cell_type": "markdown",
      "metadata": {
        "id": "TIVkFewynX67"
      },
      "source": [
        "##Feature Engineering and Modeling"
      ]
    },
    {
      "cell_type": "markdown",
      "metadata": {
        "id": "vsnAsdj6wEig"
      },
      "source": [
        "###Sentiment Analysis Features"
      ]
    },
    {
      "cell_type": "code",
      "execution_count": 10,
      "metadata": {
        "colab": {
          "base_uri": "https://localhost:8080/"
        },
        "id": "I3IMxRDdwZ5e",
        "outputId": "6b1864fc-74f3-45b6-844d-dc62460def08"
      },
      "outputs": [
        {
          "name": "stderr",
          "output_type": "stream",
          "text": [
            "100%|██████████| 14430/14430 [00:02<00:00, 5509.42it/s]\n",
            "100%|██████████| 6185/6185 [00:01<00:00, 5467.67it/s]\n"
          ]
        }
      ],
      "source": [
        "# train data\n",
        "reviews = df['Review'].values\n",
        "sentiments = df['Recommended IND'].values\n",
        "\n",
        "# 70 percent of reviews are training data\n",
        "train_reviews = reviews[:14430]\n",
        "train_sentiments = sentiments[:14430]\n",
        "\n",
        "# 30 percent of reviews are testing data\n",
        "test_reviews = reviews[14430:]\n",
        "test_sentiments = sentiments[14430:]\n",
        "\n",
        "# preprocess text\n",
        "norm_train_reviews = pre_process_corpus(train_reviews)\n",
        "norm_test_reviews = pre_process_corpus(test_reviews)"
      ]
    },
    {
      "cell_type": "markdown",
      "metadata": {
        "id": "g4Pl3YDg6MUA"
      },
      "source": [
        "###Feature Engineering"
      ]
    },
    {
      "cell_type": "markdown",
      "metadata": {
        "id": "3qIv7D9SwExO"
      },
      "source": [
        "BOW Based Features"
      ]
    },
    {
      "cell_type": "code",
      "execution_count": 11,
      "metadata": {
        "colab": {
          "base_uri": "https://localhost:8080/"
        },
        "id": "BNK-I_w3wi0u",
        "outputId": "e1a73697-634d-49a9-f0d0-d70c704f1d9c"
      },
      "outputs": [
        {
          "name": "stdout",
          "output_type": "stream",
          "text": [
            "BOW model:> Train features shape: (14430, 43094)  Test features shape: (6185, 43094)\n"
          ]
        }
      ],
      "source": [
        "from sklearn.feature_extraction.text import CountVectorizer, TfidfVectorizer\n",
        "\n",
        "# build BOW features on train reviews\n",
        "cv = CountVectorizer(binary=False, min_df=5, max_df=1.0, ngram_range=(1,3))\n",
        "cv_train_features = cv.fit_transform(norm_train_reviews)\n",
        "\n",
        "# transform test reviews into features\n",
        "cv_test_features = cv.transform(norm_test_reviews)\n",
        "\n",
        "print('BOW model:> Train features shape:', cv_train_features.shape, \n",
        "      ' Test features shape:', cv_test_features.shape)"
      ]
    },
    {
      "cell_type": "markdown",
      "metadata": {
        "id": "JBcr2KTQwFOO"
      },
      "source": [
        "TF-IDF Based Features"
      ]
    },
    {
      "cell_type": "code",
      "execution_count": 12,
      "metadata": {
        "colab": {
          "base_uri": "https://localhost:8080/"
        },
        "id": "SrumMLBcx2e2",
        "outputId": "f1d06943-a06f-4c61-bd48-d21ff80f4483"
      },
      "outputs": [
        {
          "name": "stdout",
          "output_type": "stream",
          "text": [
            "TF-IDF model:> Train features shape: (14430, 24683)  Test features shape: (6185, 24683)\n"
          ]
        }
      ],
      "source": [
        "# build TFIDF features on train reviews\n",
        "tv = TfidfVectorizer(use_idf=True, min_df=5, max_df=1.0, ngram_range=(1,2),\n",
        "                     sublinear_tf=True)\n",
        "tv_train_features = tv.fit_transform(norm_train_reviews)\n",
        "\n",
        "# transform test reviews into features\n",
        "tv_test_features = tv.transform(norm_test_reviews)\n",
        "\n",
        "print('TF-IDF model:> Train features shape:', tv_train_features.shape, \n",
        "      ' Test features shape:', tv_test_features.shape)"
      ]
    },
    {
      "cell_type": "markdown",
      "metadata": {
        "id": "PYP9oGn1wFv2"
      },
      "source": [
        "###Machine Learning Models"
      ]
    },
    {
      "cell_type": "markdown",
      "metadata": {
        "id": "y1O1znbNesyx"
      },
      "source": [
        "**Multinomial Naive Bayes Model**"
      ]
    },
    {
      "cell_type": "code",
      "execution_count": 13,
      "metadata": {
        "id": "loopfghSjw1x"
      },
      "outputs": [],
      "source": [
        "from sklearn.naive_bayes import MultinomialNB\n",
        "from sklearn.metrics import confusion_matrix, classification_report\n",
        "\n",
        "# instantiate model\n",
        "clf = MultinomialNB(alpha=1.0, fit_prior=True)"
      ]
    },
    {
      "cell_type": "code",
      "execution_count": 14,
      "metadata": {
        "id": "_8HBViRuyRAm"
      },
      "outputs": [],
      "source": [
        "# Multinomial Naive Bayes CV\n",
        "\n",
        "# train model\n",
        "clf.fit(cv_train_features, train_sentiments)\n",
        "\n",
        "# predict on test data\n",
        "mnb_bow_predictions = clf.predict(cv_test_features)"
      ]
    },
    {
      "cell_type": "code",
      "execution_count": 15,
      "metadata": {
        "colab": {
          "base_uri": "https://localhost:8080/",
          "height": 268
        },
        "id": "dhu3Ac81kRaY",
        "outputId": "0600359d-c821-4306-a592-642fdc2e2aaf"
      },
      "outputs": [
        {
          "name": "stdout",
          "output_type": "stream",
          "text": [
            "              precision    recall  f1-score   support\n",
            "\n",
            "           0       0.68      0.87      0.76       781\n",
            "           1       0.98      0.94      0.96      5404\n",
            "\n",
            "    accuracy                           0.93      6185\n",
            "   macro avg       0.83      0.90      0.86      6185\n",
            "weighted avg       0.94      0.93      0.94      6185\n",
            "\n"
          ]
        },
        {
          "data": {
            "text/html": [
              "<div>\n",
              "<style scoped>\n",
              "    .dataframe tbody tr th:only-of-type {\n",
              "        vertical-align: middle;\n",
              "    }\n",
              "\n",
              "    .dataframe tbody tr th {\n",
              "        vertical-align: top;\n",
              "    }\n",
              "\n",
              "    .dataframe thead th {\n",
              "        text-align: right;\n",
              "    }\n",
              "</style>\n",
              "<table border=\"1\" class=\"dataframe\">\n",
              "  <thead>\n",
              "    <tr style=\"text-align: right;\">\n",
              "      <th></th>\n",
              "      <th>negative</th>\n",
              "      <th>positive</th>\n",
              "    </tr>\n",
              "  </thead>\n",
              "  <tbody>\n",
              "    <tr>\n",
              "      <th>negative</th>\n",
              "      <td>678</td>\n",
              "      <td>103</td>\n",
              "    </tr>\n",
              "    <tr>\n",
              "      <th>positive</th>\n",
              "      <td>315</td>\n",
              "      <td>5089</td>\n",
              "    </tr>\n",
              "  </tbody>\n",
              "</table>\n",
              "</div>"
            ],
            "text/plain": [
              "          negative  positive\n",
              "negative       678       103\n",
              "positive       315      5089"
            ]
          },
          "execution_count": 15,
          "metadata": {},
          "output_type": "execute_result"
        }
      ],
      "source": [
        "# evaluation\n",
        "print(classification_report(test_sentiments, mnb_bow_predictions))\n",
        "\n",
        "# confusion matrix\n",
        "labels = ['negative', 'positive']\n",
        "pd.DataFrame(confusion_matrix(test_sentiments, mnb_bow_predictions), \n",
        "             index=labels, columns=labels)"
      ]
    },
    {
      "cell_type": "code",
      "execution_count": 16,
      "metadata": {
        "id": "UPbX4Oave3Sz"
      },
      "outputs": [],
      "source": [
        "# Multinomial Naive Bayes TFIDF\n",
        "\n",
        "# train model\n",
        "clf.fit(tv_train_features, train_sentiments)\n",
        "\n",
        "# predict on test data\n",
        "mnb_tfidf_predictions = clf.predict(tv_test_features)"
      ]
    },
    {
      "cell_type": "code",
      "execution_count": 17,
      "metadata": {
        "colab": {
          "base_uri": "https://localhost:8080/",
          "height": 268
        },
        "id": "TRiwEnvVmjfZ",
        "outputId": "3f5b7ab7-260f-41a5-9ea6-63af1600fddb"
      },
      "outputs": [
        {
          "name": "stdout",
          "output_type": "stream",
          "text": [
            "              precision    recall  f1-score   support\n",
            "\n",
            "           0       1.00      0.05      0.09       781\n",
            "           1       0.88      1.00      0.94      5404\n",
            "\n",
            "    accuracy                           0.88      6185\n",
            "   macro avg       0.94      0.52      0.51      6185\n",
            "weighted avg       0.89      0.88      0.83      6185\n",
            "\n"
          ]
        },
        {
          "data": {
            "text/html": [
              "<div>\n",
              "<style scoped>\n",
              "    .dataframe tbody tr th:only-of-type {\n",
              "        vertical-align: middle;\n",
              "    }\n",
              "\n",
              "    .dataframe tbody tr th {\n",
              "        vertical-align: top;\n",
              "    }\n",
              "\n",
              "    .dataframe thead th {\n",
              "        text-align: right;\n",
              "    }\n",
              "</style>\n",
              "<table border=\"1\" class=\"dataframe\">\n",
              "  <thead>\n",
              "    <tr style=\"text-align: right;\">\n",
              "      <th></th>\n",
              "      <th>negative</th>\n",
              "      <th>positive</th>\n",
              "    </tr>\n",
              "  </thead>\n",
              "  <tbody>\n",
              "    <tr>\n",
              "      <th>negative</th>\n",
              "      <td>36</td>\n",
              "      <td>745</td>\n",
              "    </tr>\n",
              "    <tr>\n",
              "      <th>positive</th>\n",
              "      <td>0</td>\n",
              "      <td>5404</td>\n",
              "    </tr>\n",
              "  </tbody>\n",
              "</table>\n",
              "</div>"
            ],
            "text/plain": [
              "          negative  positive\n",
              "negative        36       745\n",
              "positive         0      5404"
            ]
          },
          "execution_count": 17,
          "metadata": {},
          "output_type": "execute_result"
        }
      ],
      "source": [
        "# evaluation\n",
        "print(classification_report(test_sentiments, mnb_tfidf_predictions))\n",
        "\n",
        "# confusion matrix\n",
        "labels = ['negative', 'positive']\n",
        "pd.DataFrame(confusion_matrix(test_sentiments, mnb_tfidf_predictions), \n",
        "             index=labels, columns=labels)"
      ]
    },
    {
      "cell_type": "markdown",
      "metadata": {
        "id": "-4fHgHDAe_QZ"
      },
      "source": [
        "**Logistic Regression Model**"
      ]
    },
    {
      "cell_type": "code",
      "execution_count": 18,
      "metadata": {
        "id": "wGoJIm706fif"
      },
      "outputs": [],
      "source": [
        "from sklearn.linear_model import LogisticRegression\n",
        "\n",
        "# instantiate model\n",
        "lr = LogisticRegression(penalty='l2', \n",
        "                        max_iter=500, \n",
        "                        C=1, \n",
        "                        solver='liblinear', \n",
        "                        random_state=42)"
      ]
    },
    {
      "cell_type": "code",
      "execution_count": 19,
      "metadata": {
        "id": "0_js3exVnCcB"
      },
      "outputs": [],
      "source": [
        "# Logistic Regression CV\n",
        "\n",
        "# train model\n",
        "lr.fit(cv_train_features, train_sentiments)\n",
        "\n",
        "# predict on test data\n",
        "lr_bow_predictions = lr.predict(cv_test_features)"
      ]
    },
    {
      "cell_type": "code",
      "execution_count": 20,
      "metadata": {
        "colab": {
          "base_uri": "https://localhost:8080/",
          "height": 268
        },
        "id": "bh-Oon53nghx",
        "outputId": "fbf817dd-e082-4399-bf78-eacd1f5fa0b7"
      },
      "outputs": [
        {
          "name": "stdout",
          "output_type": "stream",
          "text": [
            "              precision    recall  f1-score   support\n",
            "\n",
            "           0       0.83      0.69      0.75       781\n",
            "           1       0.96      0.98      0.97      5404\n",
            "\n",
            "    accuracy                           0.94      6185\n",
            "   macro avg       0.89      0.84      0.86      6185\n",
            "weighted avg       0.94      0.94      0.94      6185\n",
            "\n"
          ]
        },
        {
          "data": {
            "text/html": [
              "<div>\n",
              "<style scoped>\n",
              "    .dataframe tbody tr th:only-of-type {\n",
              "        vertical-align: middle;\n",
              "    }\n",
              "\n",
              "    .dataframe tbody tr th {\n",
              "        vertical-align: top;\n",
              "    }\n",
              "\n",
              "    .dataframe thead th {\n",
              "        text-align: right;\n",
              "    }\n",
              "</style>\n",
              "<table border=\"1\" class=\"dataframe\">\n",
              "  <thead>\n",
              "    <tr style=\"text-align: right;\">\n",
              "      <th></th>\n",
              "      <th>negative</th>\n",
              "      <th>positive</th>\n",
              "    </tr>\n",
              "  </thead>\n",
              "  <tbody>\n",
              "    <tr>\n",
              "      <th>negative</th>\n",
              "      <td>542</td>\n",
              "      <td>239</td>\n",
              "    </tr>\n",
              "    <tr>\n",
              "      <th>positive</th>\n",
              "      <td>113</td>\n",
              "      <td>5291</td>\n",
              "    </tr>\n",
              "  </tbody>\n",
              "</table>\n",
              "</div>"
            ],
            "text/plain": [
              "          negative  positive\n",
              "negative       542       239\n",
              "positive       113      5291"
            ]
          },
          "execution_count": 20,
          "metadata": {},
          "output_type": "execute_result"
        }
      ],
      "source": [
        "# evaluation\n",
        "print(classification_report(test_sentiments, lr_bow_predictions))\n",
        "\n",
        "# confusion matrix\n",
        "labels = ['negative', 'positive']\n",
        "pd.DataFrame(confusion_matrix(test_sentiments, lr_bow_predictions), \n",
        "             index=labels, columns=labels)"
      ]
    },
    {
      "cell_type": "code",
      "execution_count": 21,
      "metadata": {
        "id": "Xs3dl-aYfITp"
      },
      "outputs": [],
      "source": [
        "# Logistic Regression TFIDF\n",
        "\n",
        "# train model\n",
        "lr.fit(tv_train_features, train_sentiments)\n",
        "\n",
        "# predict on test data\n",
        "lr_tfidf_predictions = lr.predict(tv_test_features)"
      ]
    },
    {
      "cell_type": "code",
      "execution_count": 22,
      "metadata": {
        "colab": {
          "base_uri": "https://localhost:8080/",
          "height": 268
        },
        "id": "VUMc3vUYnhQA",
        "outputId": "f95a0dac-8ef0-4e66-a8d6-61e20ebdde9d"
      },
      "outputs": [
        {
          "name": "stdout",
          "output_type": "stream",
          "text": [
            "              precision    recall  f1-score   support\n",
            "\n",
            "           0       0.91      0.44      0.60       781\n",
            "           1       0.93      0.99      0.96      5404\n",
            "\n",
            "    accuracy                           0.92      6185\n",
            "   macro avg       0.92      0.72      0.78      6185\n",
            "weighted avg       0.92      0.92      0.91      6185\n",
            "\n"
          ]
        },
        {
          "data": {
            "text/html": [
              "<div>\n",
              "<style scoped>\n",
              "    .dataframe tbody tr th:only-of-type {\n",
              "        vertical-align: middle;\n",
              "    }\n",
              "\n",
              "    .dataframe tbody tr th {\n",
              "        vertical-align: top;\n",
              "    }\n",
              "\n",
              "    .dataframe thead th {\n",
              "        text-align: right;\n",
              "    }\n",
              "</style>\n",
              "<table border=\"1\" class=\"dataframe\">\n",
              "  <thead>\n",
              "    <tr style=\"text-align: right;\">\n",
              "      <th></th>\n",
              "      <th>negative</th>\n",
              "      <th>positive</th>\n",
              "    </tr>\n",
              "  </thead>\n",
              "  <tbody>\n",
              "    <tr>\n",
              "      <th>negative</th>\n",
              "      <td>346</td>\n",
              "      <td>435</td>\n",
              "    </tr>\n",
              "    <tr>\n",
              "      <th>positive</th>\n",
              "      <td>33</td>\n",
              "      <td>5371</td>\n",
              "    </tr>\n",
              "  </tbody>\n",
              "</table>\n",
              "</div>"
            ],
            "text/plain": [
              "          negative  positive\n",
              "negative       346       435\n",
              "positive        33      5371"
            ]
          },
          "execution_count": 22,
          "metadata": {},
          "output_type": "execute_result"
        }
      ],
      "source": [
        "# evaluation\n",
        "print(classification_report(test_sentiments, lr_tfidf_predictions))\n",
        "\n",
        "# confusion matrix\n",
        "labels = ['negative', 'positive']\n",
        "pd.DataFrame(confusion_matrix(test_sentiments, lr_tfidf_predictions), \n",
        "             index=labels, columns=labels)"
      ]
    },
    {
      "cell_type": "markdown",
      "metadata": {
        "id": "ea3lS4xAfRRh"
      },
      "source": [
        "**Random Forest Model**"
      ]
    },
    {
      "cell_type": "code",
      "execution_count": 23,
      "metadata": {
        "id": "7djuFHBE6ngW"
      },
      "outputs": [],
      "source": [
        "\n",
        "from sklearn.ensemble import RandomForestClassifier\n",
        "\n",
        "# instantiate model\n",
        "rf = RandomForestClassifier(n_estimators=100, n_jobs=-1, random_state=42)"
      ]
    },
    {
      "cell_type": "code",
      "execution_count": 24,
      "metadata": {
        "id": "I1OXkMrspCaQ"
      },
      "outputs": [],
      "source": [
        "# Random Forest CV\n",
        "\n",
        "# train model\n",
        "rf.fit(cv_train_features, train_sentiments)\n",
        "\n",
        "# predict on test data\n",
        "rf_bow_predictions = rf.predict(cv_test_features)"
      ]
    },
    {
      "cell_type": "code",
      "execution_count": 25,
      "metadata": {
        "colab": {
          "base_uri": "https://localhost:8080/",
          "height": 268
        },
        "id": "aPF6WvJHph_R",
        "outputId": "d880bcdc-dd2c-4e2f-f4b2-061c3df2bdf5"
      },
      "outputs": [
        {
          "name": "stdout",
          "output_type": "stream",
          "text": [
            "              precision    recall  f1-score   support\n",
            "\n",
            "           0       0.90      0.29      0.43       781\n",
            "           1       0.91      1.00      0.95      5404\n",
            "\n",
            "    accuracy                           0.91      6185\n",
            "   macro avg       0.90      0.64      0.69      6185\n",
            "weighted avg       0.90      0.91      0.88      6185\n",
            "\n"
          ]
        },
        {
          "data": {
            "text/html": [
              "<div>\n",
              "<style scoped>\n",
              "    .dataframe tbody tr th:only-of-type {\n",
              "        vertical-align: middle;\n",
              "    }\n",
              "\n",
              "    .dataframe tbody tr th {\n",
              "        vertical-align: top;\n",
              "    }\n",
              "\n",
              "    .dataframe thead th {\n",
              "        text-align: right;\n",
              "    }\n",
              "</style>\n",
              "<table border=\"1\" class=\"dataframe\">\n",
              "  <thead>\n",
              "    <tr style=\"text-align: right;\">\n",
              "      <th></th>\n",
              "      <th>negative</th>\n",
              "      <th>positive</th>\n",
              "    </tr>\n",
              "  </thead>\n",
              "  <tbody>\n",
              "    <tr>\n",
              "      <th>negative</th>\n",
              "      <td>223</td>\n",
              "      <td>558</td>\n",
              "    </tr>\n",
              "    <tr>\n",
              "      <th>positive</th>\n",
              "      <td>26</td>\n",
              "      <td>5378</td>\n",
              "    </tr>\n",
              "  </tbody>\n",
              "</table>\n",
              "</div>"
            ],
            "text/plain": [
              "          negative  positive\n",
              "negative       223       558\n",
              "positive        26      5378"
            ]
          },
          "execution_count": 25,
          "metadata": {},
          "output_type": "execute_result"
        }
      ],
      "source": [
        "# evaluate model\n",
        "print(classification_report(test_sentiments, rf_bow_predictions))\n",
        "\n",
        "# confusion matrix\n",
        "labels = ['negative', 'positive']\n",
        "pd.DataFrame(confusion_matrix(test_sentiments, rf_bow_predictions), \n",
        "             index=labels, columns=labels)"
      ]
    },
    {
      "cell_type": "code",
      "execution_count": 26,
      "metadata": {
        "id": "rkzED0WkfYN5"
      },
      "outputs": [],
      "source": [
        "# Random Forest TFIDF\n",
        "\n",
        "# train model\n",
        "rf.fit(tv_train_features, train_sentiments)\n",
        "\n",
        "# predict on test data\n",
        "rf_tfidf_predictions = rf.predict(tv_test_features)"
      ]
    },
    {
      "cell_type": "code",
      "execution_count": 27,
      "metadata": {
        "colab": {
          "base_uri": "https://localhost:8080/",
          "height": 268
        },
        "id": "iMEK-ZpApi1Y",
        "outputId": "2db46404-0933-46d5-c7e6-449c5b413355"
      },
      "outputs": [
        {
          "name": "stdout",
          "output_type": "stream",
          "text": [
            "              precision    recall  f1-score   support\n",
            "\n",
            "           0       0.91      0.27      0.42       781\n",
            "           1       0.90      1.00      0.95      5404\n",
            "\n",
            "    accuracy                           0.90      6185\n",
            "   macro avg       0.91      0.63      0.68      6185\n",
            "weighted avg       0.91      0.90      0.88      6185\n",
            "\n"
          ]
        },
        {
          "data": {
            "text/html": [
              "<div>\n",
              "<style scoped>\n",
              "    .dataframe tbody tr th:only-of-type {\n",
              "        vertical-align: middle;\n",
              "    }\n",
              "\n",
              "    .dataframe tbody tr th {\n",
              "        vertical-align: top;\n",
              "    }\n",
              "\n",
              "    .dataframe thead th {\n",
              "        text-align: right;\n",
              "    }\n",
              "</style>\n",
              "<table border=\"1\" class=\"dataframe\">\n",
              "  <thead>\n",
              "    <tr style=\"text-align: right;\">\n",
              "      <th></th>\n",
              "      <th>negative</th>\n",
              "      <th>positive</th>\n",
              "    </tr>\n",
              "  </thead>\n",
              "  <tbody>\n",
              "    <tr>\n",
              "      <th>negative</th>\n",
              "      <td>210</td>\n",
              "      <td>571</td>\n",
              "    </tr>\n",
              "    <tr>\n",
              "      <th>positive</th>\n",
              "      <td>20</td>\n",
              "      <td>5384</td>\n",
              "    </tr>\n",
              "  </tbody>\n",
              "</table>\n",
              "</div>"
            ],
            "text/plain": [
              "          negative  positive\n",
              "negative       210       571\n",
              "positive        20      5384"
            ]
          },
          "execution_count": 27,
          "metadata": {},
          "output_type": "execute_result"
        }
      ],
      "source": [
        "# evaluate model\n",
        "print(classification_report(test_sentiments, rf_tfidf_predictions))\n",
        "\n",
        "#confusion matrix\n",
        "labels = ['negative', 'positive']\n",
        "pd.DataFrame(confusion_matrix(test_sentiments, rf_tfidf_predictions), \n",
        "             index=labels, columns=labels)"
      ]
    },
    {
      "cell_type": "markdown",
      "metadata": {
        "id": "KHDNwrSUndjY"
      },
      "source": [
        "##Insights and Recommendations\n"
      ]
    },
    {
      "cell_type": "code",
      "execution_count": 28,
      "metadata": {
        "colab": {
          "base_uri": "https://localhost:8080/",
          "height": 282
        },
        "id": "LkRPacPqhPMd",
        "outputId": "4eff1ed9-4ab8-411d-e3fc-dc0f9a68e7e5"
      },
      "outputs": [
        {
          "data": {
            "image/png": "[encoded data removed]",
            "text/plain": [
              "<Figure size 432x288 with 1 Axes>"
            ]
          },
          "metadata": {
            "needs_background": "light"
          },
          "output_type": "display_data"
        }
      ],
      "source": [
        "N = 3\n",
        "CV_means = (93,94,91)\n",
        "TV_means = (88,92,90)\n",
        "\n",
        "ind = np.arange(N) \n",
        "width = .30  \n",
        "plt.bar(ind, CV_means, width, label='BOW based features')\n",
        "plt.bar(ind + width, TV_means, width,\n",
        "    label='TF-IDF based features')\n",
        "\n",
        "plt.ylabel('Accuracy Percentage')\n",
        "plt.title('Accuracy by Model and Features used')\n",
        "\n",
        "plt.xticks(ind + width / 2, ('Multinomial Naive Bayes', 'Logistic Regression', 'Random Forest'))\n",
        "plt.legend(loc='best')\n",
        "plt.show()"
      ]
    },
    {
      "cell_type": "markdown",
      "metadata": {
        "id": "p6AmsAePjvEw"
      },
      "source": [
        "Accuracy Evaluation: As seen in the bar chart above, the Bag of Word based features utilizing CountVectorizer were more accurate in predicting the recommendation of a product than the TD-IDF based features.  When used in combination with the Multinomial Naive Bayes, Logistic Regression, and Random Forest models, the combination of BOW features with a Logistic Regression model had the best accuracy."
      ]
    },
    {
      "cell_type": "code",
      "execution_count": 38,
      "metadata": {
        "colab": {
          "base_uri": "https://localhost:8080/",
          "height": 609
        },
        "id": "KJRkNN9SmU1F",
        "outputId": "baf941db-4a58-4639-b96f-bf5593ca6420"
      },
      "outputs": [
        {
          "data": {
            "image/png": "[encoded data removed]",
            "text/plain": [
              "<Figure size 720x720 with 1 Axes>"
            ]
          },
          "metadata": {
            "needs_background": "light"
          },
          "output_type": "display_data"
        }
      ],
      "source": [
        "from matplotlib.pyplot import figure\n",
        "figure(figsize=(10,10))\n",
        "\n",
        "N = 3\n",
        "CV_means_rec = (96,97,95)\n",
        "CV_means_no = (76,75,43)\n",
        "TV_means_rec = (94,96,95)\n",
        "TV_means_no = (9,60,42)\n",
        "\n",
        "ind = np.arange(N) \n",
        "width = .15\n",
        "plt.bar(ind, CV_means_rec, width, label='BOW based features, Recommended')\n",
        "plt.bar(ind + width, CV_means_no, width, label='BOW based features, Not Recommended')\n",
        "plt.bar(ind + width + width, TV_means_rec, width,\n",
        "    label='TF-IDF based features, Recommended')\n",
        "plt.bar(ind + width + width + width, TV_means_no, width,\n",
        "    label='TF-IDF based features, Not Recommended')\n",
        "\n",
        "plt.ylabel('F1 Score Percentage')\n",
        "plt.title('F1 Score by Model and Features used')\n",
        "\n",
        "plt.xticks(ind + width / 4, ('Multinomial Naive Bayes', 'Logistic Regression', 'Random Forest'))\n",
        "plt.legend(loc='best')\n",
        "plt.show()"
      ]
    },
    {
      "cell_type": "markdown",
      "metadata": {
        "id": "y5ppax6emozO"
      },
      "source": [
        "F1 score Evaluation: As the F1 score encompasses precision and recall, it can sometimes be a more effective evaluation of a model's performance.  Because the training and testing data contained an overwhelming percentage of recommended products to the percentage of those not recommended, a rate of almost 5 to 1 (see Visualization section).  The best performing models (by F1 score) is Logistic Regression utilizing Bag of Words features and Multinomial Naive Bayes utilizing Bag of Words features."
      ]
    },
    {
      "cell_type": "markdown",
      "metadata": {
        "id": "_ajN1vU3tB57"
      },
      "source": [
        "##Conclusion: \n",
        "The results are somewhat skewed toward recommended products as there are significantly more of those recommended in the data.  In the future, pairing down training and test data to even the recommended/not recommended data would help improve F1 score.\n",
        "\n",
        "Overall, considering both Accuracy and F1 score, the best performing model and most useful to employ moving forward is Logistic Regression utilizing Bag of Words features (Count Vectorizer).  \n"
      ]
    }
  ],
  "metadata": {
    "colab": {
      "collapsed_sections": [],
      "name": "Capstone final.ipynb",
      "provenance": []
    },
    "kernelspec": {
      "display_name": "Python 3",
      "name": "python3"
    },
    "language_info": {
      "name": "python"
    }
  },
  "nbformat": 4,
  "nbformat_minor": 0
}
