{
  "nbformat": 4,
  "nbformat_minor": 0,
  "metadata": {
    "colab": {
      "name": "Sales_supervised.ipynb",
      "provenance": [],
      "collapsed_sections": []
    },
    "kernelspec": {
      "name": "python3",
      "display_name": "Python 3"
    },
    "language_info": {
      "name": "python"
    }
  },
  "cells": [
    {
      "cell_type": "markdown",
      "source": [
        "#Supervised ML model for sales data"
      ],
      "metadata": {
        "id": "q23AnIM48TZX"
      }
    },
    {
      "cell_type": "code",
      "source": [
        "#Packages related to general operating system & warnings\n",
        "import os \n",
        "import warnings\n",
        "warnings.filterwarnings('ignore')\n",
        "#Packages related to data importing, manipulation, exploratory data #analysis, data understanding\n",
        "import numpy as np\n",
        "import pandas as pd\n",
        "from pandas import Series, DataFrame\n",
        "from termcolor import colored as cl # text customization\n",
        "#Packages related to data visualizaiton\n",
        "import seaborn as sns\n",
        "import matplotlib.pyplot as plt\n",
        "%matplotlib inline\n",
        "#Setting plot sizes and type of plot\n",
        "plt.rc(\"font\", size=14)\n",
        "plt.rcParams['axes.grid'] = True\n",
        "plt.figure(figsize=(6,3))\n",
        "plt.gray()\n",
        "from matplotlib.backends.backend_pdf import PdfPages\n",
        "from sklearn.model_selection import train_test_split, GridSearchCV\n",
        "from sklearn import metrics\n",
        "from sklearn.impute import MissingIndicator, SimpleImputer\n",
        "from sklearn.preprocessing import  PolynomialFeatures, KBinsDiscretizer, FunctionTransformer\n",
        "from sklearn.preprocessing import StandardScaler, MinMaxScaler, MaxAbsScaler\n",
        "from sklearn.preprocessing import LabelEncoder, OneHotEncoder, LabelBinarizer, OrdinalEncoder\n",
        "import statsmodels.formula.api as smf\n",
        "import statsmodels.tsa as tsa\n",
        "from sklearn.linear_model import LogisticRegression, LinearRegression, ElasticNet, Lasso, Ridge\n",
        "from sklearn.neighbors import KNeighborsClassifier, KNeighborsRegressor\n",
        "from sklearn.tree import DecisionTreeClassifier, DecisionTreeRegressor, export_graphviz, export_text\n",
        "from sklearn.ensemble import BaggingClassifier, BaggingRegressor,RandomForestClassifier,RandomForestRegressor\n",
        "from sklearn.ensemble import GradientBoostingClassifier,GradientBoostingRegressor, AdaBoostClassifier, AdaBoostRegressor \n",
        "from sklearn.svm import LinearSVC, LinearSVR, SVC, SVR\n",
        "from xgboost import XGBClassifier\n",
        "from sklearn.metrics import f1_score\n",
        "from sklearn.metrics import accuracy_score\n",
        "from sklearn.metrics import confusion_matrix"
      ],
      "metadata": {
        "colab": {
          "base_uri": "https://localhost:8080/",
          "height": 35
        },
        "id": "53NWI9Pw8cEH",
        "outputId": "9ae71ebd-f64c-42fe-87ef-8b4280c23672"
      },
      "execution_count": 14,
      "outputs": [
        {
          "output_type": "display_data",
          "data": {
            "text/plain": [
              "<Figure size 432x216 with 0 Axes>"
            ]
          },
          "metadata": {}
        }
      ]
    },
    {
      "cell_type": "code",
      "source": [
        "#import data, replace NA values\n",
        "df=pd.read_csv(\"sales.csv\")\n",
        "df.Quant =pd.to_numeric(df.Quant, errors ='coerce').fillna(0).astype('int')\n",
        "df.Val =pd.to_numeric(df.Val, errors ='coerce').fillna(0).astype('int')\n",
        "df.head\n"
      ],
      "metadata": {
        "colab": {
          "base_uri": "https://localhost:8080/"
        },
        "id": "sBAAlEZPJruj",
        "outputId": "2d702ad7-c97b-4711-f0a9-ec091a1acb6f"
      },
      "execution_count": 15,
      "outputs": [
        {
          "output_type": "execute_result",
          "data": {
            "text/plain": [
              "<bound method NDFrame.head of         Unnamed: 0     ID   Prod  Quant    Val  Insp\n",
              "0                1     v1     p1    182   1665  unkn\n",
              "1                2     v2     p1   3072   8780  unkn\n",
              "2                3     v3     p1  20393  76990  unkn\n",
              "3                4     v4     p1    112   1100  unkn\n",
              "4                5     v3     p1   6164  20260  unkn\n",
              "...            ...    ...    ...    ...    ...   ...\n",
              "401141      411814  v5918  p4126    113   9330  unkn\n",
              "401142      411815  v2540  p4126    118   3355  unkn\n",
              "401143      411816  v5896  p4127    143   1835  unkn\n",
              "401144      411817  v1796  p4127    102   1445  unkn\n",
              "401145      411818  v2540  p4127    106   1275  unkn\n",
              "\n",
              "[401146 rows x 6 columns]>"
            ]
          },
          "metadata": {},
          "execution_count": 15
        }
      ]
    },
    {
      "cell_type": "code",
      "source": [
        "#split data into known and unknown\n",
        "data = df[df.Insp != 'unkn']\n",
        "unknown = df[df.Insp == 'unkn']\n",
        "data.head"
      ],
      "metadata": {
        "colab": {
          "base_uri": "https://localhost:8080/"
        },
        "id": "SH89WtOZK4Qr",
        "outputId": "f46d32f7-4055-4a73-e1ed-0188895172f9"
      },
      "execution_count": 16,
      "outputs": [
        {
          "output_type": "execute_result",
          "data": {
            "text/plain": [
              "<bound method NDFrame.head of         Unnamed: 0     ID   Prod  Quant     Val Insp\n",
              "48              53    v42    p11  51097  310780   ok\n",
              "51              56    v45    p11    260    1925   ok\n",
              "63              68    v42    p11  51282  278770   ok\n",
              "72              77    v50    p11  46903  281485   ok\n",
              "77              82    v46    p12    475    2600   ok\n",
              "...            ...    ...    ...    ...     ...  ...\n",
              "400795      411458  v3854  p4096   1567   21180   ok\n",
              "400797      411460  v3179  p4096    907   17350   ok\n",
              "400798      411461  v4561  p4096   1212   31970   ok\n",
              "400814      411477  v3179  p4096    650   18290   ok\n",
              "400815      411478   v739  p4096   2646   59720   ok\n",
              "\n",
              "[15732 rows x 6 columns]>"
            ]
          },
          "metadata": {},
          "execution_count": 16
        }
      ]
    },
    {
      "cell_type": "code",
      "source": [
        "#descriptive statistics of known data\n",
        "Total_transactions = len(data)\n",
        "normal = len(data[data.Insp == 'ok'])\n",
        "fraudulent = len(data[data.Insp == 'fraud'])\n",
        "fraud_percentage = round(fraudulent/normal*100, 2)\n",
        "print(cl('Total number of Transactions are {}'.format(Total_transactions), attrs = ['bold']))\n",
        "print(cl('Number of Normal Transactions are {}'.format(normal), attrs = ['bold']))\n",
        "print(cl('Number of fraudulent Transactions are {}'.format(fraudulent), attrs = ['bold']))\n",
        "print(cl('Percentage of fraud Transactions is {}'.format(fraud_percentage), attrs = ['bold']))"
      ],
      "metadata": {
        "colab": {
          "base_uri": "https://localhost:8080/"
        },
        "id": "tGgFFzi-UTaG",
        "outputId": "22ba1752-ef8f-440f-95b7-8027d705560e"
      },
      "execution_count": 17,
      "outputs": [
        {
          "output_type": "stream",
          "name": "stdout",
          "text": [
            "\u001b[1mTotal number of Transactions are 15732\u001b[0m\n",
            "\u001b[1mNumber of Normal Transactions are 14462\u001b[0m\n",
            "\u001b[1mNumber of fraudulent Transactions are 1270\u001b[0m\n",
            "\u001b[1mPercentage of fraud Transactions is 8.78\u001b[0m\n"
          ]
        }
      ]
    },
    {
      "cell_type": "code",
      "source": [
        "#change fraud and ok to numerical values\n",
        "data['Insp'] = data['Insp'].replace(['ok','fraud'],[0,1])\n",
        "\n",
        "#standardize value and quantity columns\n",
        "sc = StandardScaler()\n",
        "amount = data['Quant'].values\n",
        "data['Amount'] = sc.fit_transform(amount.reshape(-1, 1))\n",
        "value = data['Val'].values\n",
        "data['Value'] = sc.fit_transform(value.reshape(-1, 1))\n",
        "\n",
        "data.shape"
      ],
      "metadata": {
        "colab": {
          "base_uri": "https://localhost:8080/"
        },
        "id": "MKHQBKeGU3tb",
        "outputId": "00ec4839-a9e6-4e95-936c-ddef44ff049e"
      },
      "execution_count": 18,
      "outputs": [
        {
          "output_type": "execute_result",
          "data": {
            "text/plain": [
              "(15732, 8)"
            ]
          },
          "metadata": {},
          "execution_count": 18
        }
      ]
    },
    {
      "cell_type": "markdown",
      "source": [
        "##Train Data"
      ],
      "metadata": {
        "id": "dXdsJ5j6gdFZ"
      }
    },
    {
      "cell_type": "code",
      "source": [
        "#defining independent and dependent variables\n",
        "X = data.drop(['ID', 'Prod', 'Insp'], axis = 1)\n",
        "y = data.Insp\n",
        "\n",
        "#splitting training and testing data\n",
        "X_train, X_test, y_train, y_test = train_test_split(X, y, test_size = 0.25, random_state = 50)\n",
        "\n",
        "X = pd.concat([X_train, y_train], axis=1)\n",
        "\n",
        "# separate minority and majority classes (oversampling)\n",
        "not_fraud = X[X.Insp==0]\n",
        "fraud = X[X.Insp==1]\n",
        "\n",
        "# upsample minority\n",
        "from sklearn.utils import resample\n",
        "fraud_upsampled = resample(fraud,\n",
        "                          replace=True, # sample with replacement\n",
        "                          n_samples=len(not_fraud), # match number in majority class\n",
        "                          random_state=50) # reproducible results\n",
        "\n",
        "# combine majority and upsampled minority\n",
        "upsampled = pd.concat([not_fraud, fraud_upsampled])\n",
        "\n",
        "# check new class counts\n",
        "upsampled.Insp.value_counts()"
      ],
      "metadata": {
        "colab": {
          "base_uri": "https://localhost:8080/"
        },
        "id": "QrwZNe7egp_x",
        "outputId": "162f9b52-3914-453c-e600-c059cce53ce4"
      },
      "execution_count": 19,
      "outputs": [
        {
          "output_type": "execute_result",
          "data": {
            "text/plain": [
              "1    10847\n",
              "0    10847\n",
              "Name: Insp, dtype: int64"
            ]
          },
          "metadata": {},
          "execution_count": 19
        }
      ]
    },
    {
      "cell_type": "markdown",
      "source": [
        "###Modeling"
      ],
      "metadata": {
        "id": "APPaJWeDibD-"
      }
    },
    {
      "cell_type": "code",
      "source": [
        "#Decision Tree\n",
        "DT = DecisionTreeClassifier(max_depth = 4, criterion = 'entropy')\n",
        "DT.fit(X_train, y_train)\n",
        "dt_yhat = DT.predict(X_test)\n",
        "\n",
        "print('Accuracy score of the Decision Tree model is {}'.format(accuracy_score(y_test, dt_yhat)))\n",
        "print('F1 score of the Decision Tree model is {}'.format(f1_score(y_test, dt_yhat)))\n",
        "\n",
        "#check confusion matrix\n",
        "confusion_matrix(y_test, dt_yhat, labels = [0,1])"
      ],
      "metadata": {
        "colab": {
          "base_uri": "https://localhost:8080/"
        },
        "id": "AAJ2BcNoiek4",
        "outputId": "e7653f50-1be0-419b-c552-bfdf2a77e9d3"
      },
      "execution_count": 20,
      "outputs": [
        {
          "output_type": "stream",
          "name": "stdout",
          "text": [
            "Accuracy score of the Decision Tree model is 0.9224510551741673\n",
            "F1 score of the Decision Tree model is 0.37371663244353187\n"
          ]
        },
        {
          "output_type": "execute_result",
          "data": {
            "text/plain": [
              "array([[3537,   78],\n",
              "       [ 227,   91]])"
            ]
          },
          "metadata": {},
          "execution_count": 20
        }
      ]
    },
    {
      "cell_type": "code",
      "source": [
        "#K Nearest Neighbors\n",
        "n = 3\n",
        "KNN = KNeighborsClassifier(n_neighbors = n)\n",
        "KNN.fit(X_train, y_train)\n",
        "knn_yhat = KNN.predict(X_test)\n",
        "\n",
        "print('Accuracy score of the K-Nearest Neighbors model is {}'.format(accuracy_score(y_test, knn_yhat)))\n",
        "print('F1 score of the K-Nearest Neighbors model is {}'.format(f1_score(y_test, knn_yhat)))\n",
        "\n",
        "#check confusion matrix\n",
        "confusion_matrix(y_test, knn_yhat, labels = [0,1])\n",
        "\n",
        "#I ran this with several cluster values and 3 clusters allowed for the largest F1 score"
      ],
      "metadata": {
        "colab": {
          "base_uri": "https://localhost:8080/"
        },
        "id": "HxbML4KixMte",
        "outputId": "77b6ad96-e641-462f-dd7c-aa4ab865b84f"
      },
      "execution_count": 21,
      "outputs": [
        {
          "output_type": "stream",
          "name": "stdout",
          "text": [
            "Accuracy score of the K-Nearest Neighbors model is 0.9310958555809814\n",
            "F1 score of the K-Nearest Neighbors model is 0.43186582809224316\n"
          ]
        },
        {
          "output_type": "execute_result",
          "data": {
            "text/plain": [
              "array([[3559,   56],\n",
              "       [ 215,  103]])"
            ]
          },
          "metadata": {},
          "execution_count": 21
        }
      ]
    },
    {
      "cell_type": "code",
      "source": [
        "#Logistic Regression\n",
        "lr = LogisticRegression()\n",
        "lr.fit(X_train, y_train)\n",
        "lr_yhat = lr.predict(X_test)\n",
        "\n",
        "print('Accuracy score of the Logistic Regression model is {}'.format(accuracy_score(y_test, lr_yhat)))\n",
        "print('F1 score of the Logistic Regression model is {}'.format(f1_score(y_test, lr_yhat)))\n",
        "\n",
        "#check confusion matrix\n",
        "confusion_matrix(y_test, lr_yhat, labels = [0,1])"
      ],
      "metadata": {
        "colab": {
          "base_uri": "https://localhost:8080/"
        },
        "id": "CcI0-8wsy-n2",
        "outputId": "2ad68146-7bc0-4bfe-b971-5fc2ce0c1d32"
      },
      "execution_count": 22,
      "outputs": [
        {
          "output_type": "stream",
          "name": "stdout",
          "text": [
            "Accuracy score of the Logistic Regression model is 0.9196542079837274\n",
            "F1 score of the Logistic Regression model is 0.018633540372670808\n"
          ]
        },
        {
          "output_type": "execute_result",
          "data": {
            "text/plain": [
              "array([[3614,    1],\n",
              "       [ 315,    3]])"
            ]
          },
          "metadata": {},
          "execution_count": 22
        }
      ]
    },
    {
      "cell_type": "code",
      "source": [
        "#Random Forest\n",
        "rf = RandomForestClassifier(max_depth = 4)\n",
        "rf.fit(X_train, y_train)\n",
        "rf_yhat = rf.predict(X_test)\n",
        "\n",
        "print('Accuracy score of the Random Forest model is {}'.format(accuracy_score(y_test, rf_yhat)))\n",
        "print('F1 score of the Random Forest model is {}'.format(f1_score(y_test, rf_yhat)))\n",
        "\n",
        "#check confusion matrix\n",
        "confusion_matrix(y_test, rf_yhat, labels = [0,1])"
      ],
      "metadata": {
        "colab": {
          "base_uri": "https://localhost:8080/"
        },
        "id": "bvihFbKZzf7i",
        "outputId": "260c7166-a33e-4f11-dd8e-ca8af3dd2c28"
      },
      "execution_count": 23,
      "outputs": [
        {
          "output_type": "stream",
          "name": "stdout",
          "text": [
            "Accuracy score of the Random Forest model is 0.9206712433257056\n",
            "F1 score of the Random Forest model is 0.04294478527607362\n"
          ]
        },
        {
          "output_type": "execute_result",
          "data": {
            "text/plain": [
              "array([[3614,    1],\n",
              "       [ 311,    7]])"
            ]
          },
          "metadata": {},
          "execution_count": 23
        }
      ]
    },
    {
      "cell_type": "code",
      "source": [
        "#support vector machines\n",
        "svm = SVC()\n",
        "svm.fit(X_train, y_train)\n",
        "svm_yhat = svm.predict(X_test)\n",
        "\n",
        "print('Accuracy score of the Support Vector Machines model is {}'.format(accuracy_score(y_test, svm_yhat)))\n",
        "print('F1 score of the Support Vector Machines model is {}'.format(f1_score(y_test, svm_yhat)))\n",
        "\n",
        "#check confusion matrix\n",
        "confusion_matrix(y_test, svm_yhat, labels = [0,1])"
      ],
      "metadata": {
        "colab": {
          "base_uri": "https://localhost:8080/"
        },
        "id": "pwEclYmXz9Fl",
        "outputId": "2fc2d92d-a72d-43cd-d1c1-8e68c2c5a01e"
      },
      "execution_count": 24,
      "outputs": [
        {
          "output_type": "stream",
          "name": "stdout",
          "text": [
            "Accuracy score of the Support Vector Machines model is 0.9196542079837274\n",
            "F1 score of the Support Vector Machines model is 0.0125\n"
          ]
        },
        {
          "output_type": "execute_result",
          "data": {
            "text/plain": [
              "array([[3615,    0],\n",
              "       [ 316,    2]])"
            ]
          },
          "metadata": {},
          "execution_count": 24
        }
      ]
    },
    {
      "cell_type": "markdown",
      "source": [
        "###Running Best Model on unknown data"
      ],
      "metadata": {
        "id": "rcne_-zC5les"
      }
    },
    {
      "cell_type": "code",
      "source": [
        "#standardize value and quantity columns\n",
        "sc = StandardScaler()\n",
        "amount1 = unknown['Quant'].values\n",
        "unknown['Amount'] = sc.fit_transform(amount1.reshape(-1, 1))\n",
        "value1 = unknown['Val'].values\n",
        "unknown['Value'] = sc.fit_transform(value1.reshape(-1, 1))\n",
        "\n",
        "unknown.shape"
      ],
      "metadata": {
        "colab": {
          "base_uri": "https://localhost:8080/"
        },
        "id": "3RXYmT9y5kWl",
        "outputId": "82d52d8d-abcb-4d86-cd06-ad92298b606f"
      },
      "execution_count": 25,
      "outputs": [
        {
          "output_type": "execute_result",
          "data": {
            "text/plain": [
              "(385414, 8)"
            ]
          },
          "metadata": {},
          "execution_count": 25
        }
      ]
    },
    {
      "cell_type": "code",
      "source": [
        "#Use KNN model to make predictions about the data\n",
        "Xnew = unknown.drop(['ID', 'Prod', 'Insp'], axis = 1)\n",
        "ynew = KNN.predict(Xnew)\n",
        "\n",
        "print(ynew)"
      ],
      "metadata": {
        "colab": {
          "base_uri": "https://localhost:8080/"
        },
        "id": "8MmgfOoPDu9t",
        "outputId": "071060c7-1b3e-480e-8b3f-4c898e6857d6"
      },
      "execution_count": 26,
      "outputs": [
        {
          "output_type": "stream",
          "name": "stdout",
          "text": [
            "[0 0 0 ... 1 0 0]\n"
          ]
        }
      ]
    },
    {
      "cell_type": "markdown",
      "source": [
        "###Running Best Model on All Data"
      ],
      "metadata": {
        "id": "0Qp18EXQQQWe"
      }
    },
    {
      "cell_type": "code",
      "source": [
        "#standardize value and quantity columns\n",
        "sc = StandardScaler()\n",
        "amount1 = df['Quant'].values\n",
        "df['Amount'] = sc.fit_transform(amount1.reshape(-1, 1))\n",
        "value1 = df['Val'].values\n",
        "df['Value'] = sc.fit_transform(value1.reshape(-1, 1))\n",
        "\n",
        "df.shape"
      ],
      "metadata": {
        "colab": {
          "base_uri": "https://localhost:8080/"
        },
        "id": "yh3JptDoQPI-",
        "outputId": "d4ba237a-3a74-4e0a-dcc9-033cd0a97ca5"
      },
      "execution_count": 27,
      "outputs": [
        {
          "output_type": "execute_result",
          "data": {
            "text/plain": [
              "(401146, 8)"
            ]
          },
          "metadata": {},
          "execution_count": 27
        }
      ]
    },
    {
      "cell_type": "code",
      "source": [
        "#Use KNN model to make predictions about the data\n",
        "Xall = df.drop(['ID', 'Prod', 'Insp'], axis = 1)\n",
        "yall = KNN.predict(Xall)\n",
        "\n",
        "print(yall)\n",
        "\n",
        "dpre = pd.DataFrame(yall.T)\n",
        "dpre.to_csv('myfile.csv')"
      ],
      "metadata": {
        "colab": {
          "base_uri": "https://localhost:8080/"
        },
        "id": "7BeVLqXVQmvS",
        "outputId": "7c3434cd-b329-458a-edde-f8e27ecce21c"
      },
      "execution_count": 28,
      "outputs": [
        {
          "output_type": "stream",
          "name": "stdout",
          "text": [
            "[0 0 0 ... 1 0 0]\n"
          ]
        }
      ]
    }
  ]
}